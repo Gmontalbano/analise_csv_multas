{
  "nbformat": 4,
  "nbformat_minor": 5,
  "metadata": {
    "hide_input": false,
    "kernelspec": {
      "display_name": "Python 3",
      "language": "python",
      "name": "python3"
    },
    "language_info": {
      "codemirror_mode": {
        "name": "ipython",
        "version": 3
      },
      "file_extension": ".py",
      "mimetype": "text/x-python",
      "name": "python",
      "nbconvert_exporter": "python",
      "pygments_lexer": "ipython3",
      "version": "3.7.4"
    },
    "toc": {
      "base_numbering": 1,
      "nav_menu": {},
      "number_sections": false,
      "sideBar": true,
      "skip_h1_title": false,
      "title_cell": "Table of Contents",
      "title_sidebar": "Contents",
      "toc_cell": false,
      "toc_position": {
        "height": "calc(100% - 180px)",
        "left": "10px",
        "top": "150px",
        "width": "227px"
      },
      "toc_section_display": true,
      "toc_window_display": false
    },
    "varInspector": {
      "cols": {
        "lenName": 16,
        "lenType": 16,
        "lenVar": 40
      },
      "kernels_config": {
        "python": {
          "delete_cmd_postfix": "",
          "delete_cmd_prefix": "del ",
          "library": "var_list.py",
          "varRefreshCmd": "print(var_dic_list())"
        },
        "r": {
          "delete_cmd_postfix": ") ",
          "delete_cmd_prefix": "rm(",
          "library": "var_list.r",
          "varRefreshCmd": "cat(var_dic_list()) "
        }
      },
      "types_to_exclude": [
        "module",
        "function",
        "builtin_function_or_method",
        "instance",
        "_Feature"
      ],
      "window_display": false
    },
    "colab": {
      "name": "projeto.ipynb",
      "provenance": [],
      "collapsed_sections": [
        "61009ab9"
      ]
    }
  },
  "cells": [
    {
      "cell_type": "markdown",
      "metadata": {
        "id": "5qedyh1nid1M"
      },
      "source": [
        "A ideia deste trabalho é analisar e extrair insights dos dados de infração disponíveis em: **http://repositorio.dados.gov.br/transportes-transito/transito/multas/infracaocondutor-2007-2013.zip**. A análise dos dados será feita na lingugem Python majoritariamente pela biblioteca Pandas e suas funções."
      ],
      "id": "5qedyh1nid1M"
    },
    {
      "cell_type": "code",
      "metadata": {
        "id": "45b06a0a"
      },
      "source": [
        "import pandas as pd  # manipulação de dados tabulares\n",
        "import os  # acesso aos arquivos da máquina local \n",
        "import datetime as dt  # manipulação de datas\n",
        "import re  # manipulação de Strings (expressões regulares)\n",
        "import seaborn as sns  # visualização\n",
        "import matplotlib.pyplot as plt  # visualização\n",
        "import holidays  # feriados nacionais e internacionais\n",
        "import numpy as np # computação vetorial/matricial\n",
        "import itertools # mainpulação de iteradores\n",
        "from sklearn import linear_model  # ML"
      ],
      "id": "45b06a0a",
      "execution_count": 1,
      "outputs": []
    },
    {
      "cell_type": "markdown",
      "metadata": {
        "id": "gTxmuA38ikSZ"
      },
      "source": [
        "### Carregandos os dados"
      ],
      "id": "gTxmuA38ikSZ"
    },
    {
      "cell_type": "code",
      "metadata": {
        "colab": {
          "base_uri": "https://localhost:8080/",
          "height": 206
        },
        "id": "62279611",
        "outputId": "53de5a69-be24-4f1f-d7bf-4abbb2d0d2b4"
      },
      "source": [
        "# para não precisar criar um df para cada arquivo criamos um df completo composto por todos os arquivos\n",
        "\n",
        "# df vazio\n",
        "df = pd.DataFrame()\n",
        "# lista com todos os arquivos na pasta do projeto no qual termina com .csv\n",
        "csv_files = [file for file in os.listdir(\"./\") if '.csv' in file]\n",
        "#for arquivo na lista ele vai incluindo do df vazio criado\n",
        "for file in csv_files:\n",
        "    df = pd.concat([df, pd.read_csv(file, sep=';')], ignore_index=True)\n",
        "df.head(5)  # mostra as 5 primeiras linhas"
      ],
      "id": "62279611",
      "execution_count": 2,
      "outputs": [
        {
          "output_type": "execute_result",
          "data": {
            "text/html": [
              "<div>\n",
              "<style scoped>\n",
              "    .dataframe tbody tr th:only-of-type {\n",
              "        vertical-align: middle;\n",
              "    }\n",
              "\n",
              "    .dataframe tbody tr th {\n",
              "        vertical-align: top;\n",
              "    }\n",
              "\n",
              "    .dataframe thead th {\n",
              "        text-align: right;\n",
              "    }\n",
              "</style>\n",
              "<table border=\"1\" class=\"dataframe\">\n",
              "  <thead>\n",
              "    <tr style=\"text-align: right;\">\n",
              "      <th></th>\n",
              "      <th>cod_condutorinfrator</th>\n",
              "      <th>num_auto</th>\n",
              "      <th>dat_apresentdoc</th>\n",
              "      <th>dat_entradasistema</th>\n",
              "    </tr>\n",
              "  </thead>\n",
              "  <tbody>\n",
              "    <tr>\n",
              "      <th>0</th>\n",
              "      <td>439176</td>\n",
              "      <td>E008339198</td>\n",
              "      <td>2009-04-06</td>\n",
              "      <td>2009-04-30</td>\n",
              "    </tr>\n",
              "    <tr>\n",
              "      <th>1</th>\n",
              "      <td>376689</td>\n",
              "      <td>E008339187</td>\n",
              "      <td>2009-02-10</td>\n",
              "      <td>2009-02-10</td>\n",
              "    </tr>\n",
              "    <tr>\n",
              "      <th>2</th>\n",
              "      <td>375093</td>\n",
              "      <td>E008339376</td>\n",
              "      <td>2009-02-02</td>\n",
              "      <td>2009-02-06</td>\n",
              "    </tr>\n",
              "    <tr>\n",
              "      <th>3</th>\n",
              "      <td>377341</td>\n",
              "      <td>B060339497</td>\n",
              "      <td>2009-02-06</td>\n",
              "      <td>2009-02-11</td>\n",
              "    </tr>\n",
              "    <tr>\n",
              "      <th>4</th>\n",
              "      <td>377563</td>\n",
              "      <td>E008339872</td>\n",
              "      <td>2009-02-11</td>\n",
              "      <td>2009-02-11</td>\n",
              "    </tr>\n",
              "  </tbody>\n",
              "</table>\n",
              "</div>"
            ],
            "text/plain": [
              "   cod_condutorinfrator    num_auto dat_apresentdoc dat_entradasistema\n",
              "0                439176  E008339198      2009-04-06         2009-04-30\n",
              "1                376689  E008339187      2009-02-10         2009-02-10\n",
              "2                375093  E008339376      2009-02-02         2009-02-06\n",
              "3                377341  B060339497      2009-02-06         2009-02-11\n",
              "4                377563  E008339872      2009-02-11         2009-02-11"
            ]
          },
          "metadata": {},
          "execution_count": 2
        }
      ]
    },
    {
      "cell_type": "code",
      "metadata": {
        "colab": {
          "base_uri": "https://localhost:8080/"
        },
        "id": "YWOBPvIviuov",
        "outputId": "719688f5-30eb-4dc2-b378-259e452011d1"
      },
      "source": [
        "# qtde de dados\n",
        "df.shape"
      ],
      "id": "YWOBPvIviuov",
      "execution_count": 3,
      "outputs": [
        {
          "output_type": "execute_result",
          "data": {
            "text/plain": [
              "(1542401, 4)"
            ]
          },
          "metadata": {},
          "execution_count": 3
        }
      ]
    },
    {
      "cell_type": "code",
      "metadata": {
        "colab": {
          "base_uri": "https://localhost:8080/"
        },
        "id": "OEvCJrgKi100",
        "outputId": "9fe770ef-b183-49ca-b229-94e6b000feb1"
      },
      "source": [
        "# dtypes para sabermos o tipo de dado em cada coluna\n",
        "df.dtypes"
      ],
      "id": "OEvCJrgKi100",
      "execution_count": 4,
      "outputs": [
        {
          "output_type": "execute_result",
          "data": {
            "text/plain": [
              "cod_condutorinfrator     int64\n",
              "num_auto                object\n",
              "dat_apresentdoc         object\n",
              "dat_entradasistema      object\n",
              "dtype: object"
            ]
          },
          "metadata": {},
          "execution_count": 4
        }
      ]
    },
    {
      "cell_type": "markdown",
      "metadata": {
        "id": "c4XG2fInisL4"
      },
      "source": [
        "Temos mais de 1.5M de dados de infrações com 4 informações por entrada. Cada entrada é uma infração com um código numérico (int) do infrator, um código textual que identifica o automóvel e duas datas, as quias não se sabe o significado."
      ],
      "id": "c4XG2fInisL4"
    },
    {
      "cell_type": "markdown",
      "metadata": {
        "id": "Y-ZAokohjlyU"
      },
      "source": [
        "### Análise das datas\n",
        "\n",
        "Abaixo, tenta-se entender um pouco mais sobre os dados de datas na base."
      ],
      "id": "Y-ZAokohjlyU"
    },
    {
      "cell_type": "code",
      "metadata": {
        "id": "523a46db"
      },
      "source": [
        "# verificando a integridade das datas\n",
        "\n",
        "def checa_datas(df, col):\n",
        "  # checa a integridade das datas\n",
        "  print(\"\\n*************\")\n",
        "  print(col)\n",
        "  print(\"*************\\n\")\n",
        "\n",
        "  # 1. existe entradas sem data 'dat_apresentdoc' (null)?\n",
        "  print('1.', df[col].isnull().sum())\n",
        "\n",
        "  # 2. existem datas com mais de 10 chars (número de chars no formato padrão YYYY-MM-DD)?\n",
        "  print('2.', (df[col].apply(lambda x: len(x))!=10).sum())\n",
        "\n",
        "  # 3. existem datas diferentes do padrão YYYY-MM_DD?\n",
        "  date_pattern = r\"^\\d{4}-\\d{2}-\\d{2}$\"\n",
        "  print('3.', (df[col].apply(lambda x: not bool(re.match(date_pattern, x))).sum()))\n",
        "\n",
        "  # 4. existem dadas fora do período de 2007 a 2013?\n",
        "  print('4.', (df[col].apply(lambda x: int(x.split('-')[0])<2007 or int(x.split('-')[0])>2013).sum()))\n",
        "\n",
        "  return"
      ],
      "id": "523a46db",
      "execution_count": 5,
      "outputs": []
    },
    {
      "cell_type": "code",
      "metadata": {
        "colab": {
          "base_uri": "https://localhost:8080/"
        },
        "id": "kXzJA8dxl41Z",
        "outputId": "cff6dd53-4a7c-49dd-c304-dc78c3edb391"
      },
      "source": [
        "checa_datas(df, 'dat_apresentdoc')\n",
        "checa_datas(df, 'dat_entradasistema')"
      ],
      "id": "kXzJA8dxl41Z",
      "execution_count": 6,
      "outputs": [
        {
          "output_type": "stream",
          "name": "stdout",
          "text": [
            "\n",
            "*************\n",
            "dat_apresentdoc\n",
            "*************\n",
            "\n",
            "1. 0\n",
            "2. 0\n",
            "3. 0\n",
            "4. 1193\n",
            "\n",
            "*************\n",
            "dat_entradasistema\n",
            "*************\n",
            "\n",
            "1. 0\n",
            "2. 0\n",
            "3. 0\n",
            "4. 4\n"
          ]
        }
      ]
    },
    {
      "cell_type": "markdown",
      "metadata": {
        "id": "lRpXBT6Dm4kz"
      },
      "source": [
        "**Insight**: a coluna `dat_apresentdoc` parece term muitas dadas inconsistentes: 1193 datas fora do período de análise declarado. Em contrapartida, a coluna `dat_entradasistema` possui apenas 4 desses cados. Dessa forma, vamos focar a análise na `dat_entradasistema`."
      ],
      "id": "lRpXBT6Dm4kz"
    },
    {
      "cell_type": "markdown",
      "metadata": {
        "id": "KWf_qtKknyKd"
      },
      "source": [
        "### Limpeza e formatação dos dados"
      ],
      "id": "KWf_qtKknyKd"
    },
    {
      "cell_type": "code",
      "metadata": {
        "colab": {
          "base_uri": "https://localhost:8080/",
          "height": 112
        },
        "id": "2pT-Y46Xn5hr",
        "outputId": "d739d92d-d249-4c57-cb79-e23e3672208e"
      },
      "source": [
        "# removendo a coluna indesejada devido a qtde de datas inconsistentes\n",
        "df.drop(columns=['dat_apresentdoc'], inplace=True)\n",
        "# mostrando as duas 1as linhas do df resultante\n",
        "df.head(2)"
      ],
      "id": "2pT-Y46Xn5hr",
      "execution_count": 7,
      "outputs": [
        {
          "output_type": "execute_result",
          "data": {
            "text/html": [
              "<div>\n",
              "<style scoped>\n",
              "    .dataframe tbody tr th:only-of-type {\n",
              "        vertical-align: middle;\n",
              "    }\n",
              "\n",
              "    .dataframe tbody tr th {\n",
              "        vertical-align: top;\n",
              "    }\n",
              "\n",
              "    .dataframe thead th {\n",
              "        text-align: right;\n",
              "    }\n",
              "</style>\n",
              "<table border=\"1\" class=\"dataframe\">\n",
              "  <thead>\n",
              "    <tr style=\"text-align: right;\">\n",
              "      <th></th>\n",
              "      <th>cod_condutorinfrator</th>\n",
              "      <th>num_auto</th>\n",
              "      <th>dat_entradasistema</th>\n",
              "    </tr>\n",
              "  </thead>\n",
              "  <tbody>\n",
              "    <tr>\n",
              "      <th>0</th>\n",
              "      <td>439176</td>\n",
              "      <td>E008339198</td>\n",
              "      <td>2009-04-30</td>\n",
              "    </tr>\n",
              "    <tr>\n",
              "      <th>1</th>\n",
              "      <td>376689</td>\n",
              "      <td>E008339187</td>\n",
              "      <td>2009-02-10</td>\n",
              "    </tr>\n",
              "  </tbody>\n",
              "</table>\n",
              "</div>"
            ],
            "text/plain": [
              "   cod_condutorinfrator    num_auto dat_entradasistema\n",
              "0                439176  E008339198         2009-04-30\n",
              "1                376689  E008339187         2009-02-10"
            ]
          },
          "metadata": {},
          "execution_count": 7
        }
      ]
    },
    {
      "cell_type": "markdown",
      "metadata": {
        "id": "tr3a-YdcoxGK"
      },
      "source": [
        "A utilização de datas no formato `datetime` permite a manipulação desses dados de forma intuitiva e facilitada, utilizando condicionais para a criação de filtros. Por exemlo, é possível fazer \n",
        " ```python\n",
        "data_datetime > 2007\n",
        " ```"
      ],
      "id": "tr3a-YdcoxGK"
    },
    {
      "cell_type": "code",
      "metadata": {
        "id": "c81f3e4a",
        "colab": {
          "base_uri": "https://localhost:8080/"
        },
        "outputId": "a1a71c9f-7114-4eb5-f941-0c707dae2ab8"
      },
      "source": [
        "# como o tipo da coluna 'dat_entradasistema' era object e se trata de datas, transformamos para o tipo datetime\n",
        "df['dat_entradasistema'] = pd.to_datetime(df['dat_entradasistema'], errors='coerce')\n",
        "print(df.dtypes)"
      ],
      "id": "c81f3e4a",
      "execution_count": 8,
      "outputs": [
        {
          "output_type": "stream",
          "name": "stdout",
          "text": [
            "cod_condutorinfrator             int64\n",
            "num_auto                        object\n",
            "dat_entradasistema      datetime64[ns]\n",
            "dtype: object\n"
          ]
        }
      ]
    },
    {
      "cell_type": "code",
      "metadata": {
        "colab": {
          "base_uri": "https://localhost:8080/",
          "height": 206
        },
        "id": "iWzZXV7BqIGk",
        "outputId": "31063fa6-eaab-4387-ef2d-ad9904d66fbe"
      },
      "source": [
        "# ordenando os dados em ordem cronológica\n",
        "df.sort_values(by=['dat_entradasistema'], inplace=True)\n",
        "df.head()"
      ],
      "id": "iWzZXV7BqIGk",
      "execution_count": 9,
      "outputs": [
        {
          "output_type": "execute_result",
          "data": {
            "text/html": [
              "<div>\n",
              "<style scoped>\n",
              "    .dataframe tbody tr th:only-of-type {\n",
              "        vertical-align: middle;\n",
              "    }\n",
              "\n",
              "    .dataframe tbody tr th {\n",
              "        vertical-align: top;\n",
              "    }\n",
              "\n",
              "    .dataframe thead th {\n",
              "        text-align: right;\n",
              "    }\n",
              "</style>\n",
              "<table border=\"1\" class=\"dataframe\">\n",
              "  <thead>\n",
              "    <tr style=\"text-align: right;\">\n",
              "      <th></th>\n",
              "      <th>cod_condutorinfrator</th>\n",
              "      <th>num_auto</th>\n",
              "      <th>dat_entradasistema</th>\n",
              "    </tr>\n",
              "  </thead>\n",
              "  <tbody>\n",
              "    <tr>\n",
              "      <th>192940</th>\n",
              "      <td>1428729</td>\n",
              "      <td>T044954832</td>\n",
              "      <td>2000-11-16</td>\n",
              "    </tr>\n",
              "    <tr>\n",
              "      <th>194211</th>\n",
              "      <td>1428731</td>\n",
              "      <td>T045186499</td>\n",
              "      <td>2000-11-16</td>\n",
              "    </tr>\n",
              "    <tr>\n",
              "      <th>224731</th>\n",
              "      <td>1428730</td>\n",
              "      <td>R243184182</td>\n",
              "      <td>2000-11-16</td>\n",
              "    </tr>\n",
              "    <tr>\n",
              "      <th>1467854</th>\n",
              "      <td>10771</td>\n",
              "      <td>B087367057</td>\n",
              "      <td>2006-05-22</td>\n",
              "    </tr>\n",
              "    <tr>\n",
              "      <th>709266</th>\n",
              "      <td>60926</td>\n",
              "      <td>B084168595</td>\n",
              "      <td>2007-01-16</td>\n",
              "    </tr>\n",
              "  </tbody>\n",
              "</table>\n",
              "</div>"
            ],
            "text/plain": [
              "         cod_condutorinfrator    num_auto dat_entradasistema\n",
              "192940                1428729  T044954832         2000-11-16\n",
              "194211                1428731  T045186499         2000-11-16\n",
              "224731                1428730  R243184182         2000-11-16\n",
              "1467854                 10771  B087367057         2006-05-22\n",
              "709266                  60926  B084168595         2007-01-16"
            ]
          },
          "metadata": {},
          "execution_count": 9
        }
      ]
    },
    {
      "cell_type": "code",
      "metadata": {
        "id": "c8e5541e",
        "colab": {
          "base_uri": "https://localhost:8080/",
          "height": 206
        },
        "outputId": "a11a87b9-c0c7-49cc-9878-192a362c5272"
      },
      "source": [
        "# filtrando dados inconsistentes nas datas; a coluna de data possuia algumas datas erradas\n",
        "boolean_mask = (df['dat_entradasistema'] > dt.datetime(2007, 1, 1)) & (df['dat_entradasistema'] < dt.datetime(2013, 7, 1))\n",
        "df = df[boolean_mask]\n",
        "df.head()\n"
      ],
      "id": "c8e5541e",
      "execution_count": 10,
      "outputs": [
        {
          "output_type": "execute_result",
          "data": {
            "text/html": [
              "<div>\n",
              "<style scoped>\n",
              "    .dataframe tbody tr th:only-of-type {\n",
              "        vertical-align: middle;\n",
              "    }\n",
              "\n",
              "    .dataframe tbody tr th {\n",
              "        vertical-align: top;\n",
              "    }\n",
              "\n",
              "    .dataframe thead th {\n",
              "        text-align: right;\n",
              "    }\n",
              "</style>\n",
              "<table border=\"1\" class=\"dataframe\">\n",
              "  <thead>\n",
              "    <tr style=\"text-align: right;\">\n",
              "      <th></th>\n",
              "      <th>cod_condutorinfrator</th>\n",
              "      <th>num_auto</th>\n",
              "      <th>dat_entradasistema</th>\n",
              "    </tr>\n",
              "  </thead>\n",
              "  <tbody>\n",
              "    <tr>\n",
              "      <th>709266</th>\n",
              "      <td>60926</td>\n",
              "      <td>B084168595</td>\n",
              "      <td>2007-01-16</td>\n",
              "    </tr>\n",
              "    <tr>\n",
              "      <th>709804</th>\n",
              "      <td>61883</td>\n",
              "      <td>R005595142</td>\n",
              "      <td>2007-01-18</td>\n",
              "    </tr>\n",
              "    <tr>\n",
              "      <th>709120</th>\n",
              "      <td>61885</td>\n",
              "      <td>R005560647</td>\n",
              "      <td>2007-01-18</td>\n",
              "    </tr>\n",
              "    <tr>\n",
              "      <th>709798</th>\n",
              "      <td>61760</td>\n",
              "      <td>L002285924</td>\n",
              "      <td>2007-01-18</td>\n",
              "    </tr>\n",
              "    <tr>\n",
              "      <th>710221</th>\n",
              "      <td>61988</td>\n",
              "      <td>R005602277</td>\n",
              "      <td>2007-01-19</td>\n",
              "    </tr>\n",
              "  </tbody>\n",
              "</table>\n",
              "</div>"
            ],
            "text/plain": [
              "        cod_condutorinfrator    num_auto dat_entradasistema\n",
              "709266                 60926  B084168595         2007-01-16\n",
              "709804                 61883  R005595142         2007-01-18\n",
              "709120                 61885  R005560647         2007-01-18\n",
              "709798                 61760  L002285924         2007-01-18\n",
              "710221                 61988  R005602277         2007-01-19"
            ]
          },
          "metadata": {},
          "execution_count": 10
        }
      ]
    },
    {
      "cell_type": "markdown",
      "metadata": {
        "id": "iva0oPFWrbBe"
      },
      "source": [
        "### Análise e extração de insights\n",
        "\n",
        "Nesta seção, deseja-se fazer os seguintes testes e verificações:\n",
        "\n",
        "1. Verificar ocorrências em sábados e domingos (via `dat_entradasistema`). \n",
        "2. Calcular o total de infrações por semestre e ano\n",
        "3. Verificar quais condutores e autos que mais tomaram multa por ano e no período total.\n",
        "4. Verificar o número de semestres que ocorreram infrações para um mesmo condutor.\n",
        "5. Testar se a média de ocorrências nos fim de semana e feriados é maior do que a média de segunda à sexta.\n"
      ],
      "id": "iva0oPFWrbBe"
    },
    {
      "cell_type": "markdown",
      "metadata": {
        "id": "lCNQ6XB7s7sG"
      },
      "source": [
        "#### 1. Verificar ocorrências em sábados e domingos (via `dat_entradasistema`)\n",
        "\n",
        "Os códigos a seguir são usados para identificar dias da semana a partir das datas utilizando o método `weekday`.\n",
        "\n",
        "| Dia    | Código |\n",
        "|   :-:   |  :-:   |\n",
        "|Segunda  | 0 |\n",
        "|Terça    | 1 |\n",
        "|Quarta   | 2 |\n",
        "|Quinta   | 3 |\n",
        "|Sexta    | 4 |\n",
        "|Sábado   | 5 |\n",
        "|Domingo  | 6 |"
      ],
      "id": "lCNQ6XB7s7sG"
    },
    {
      "cell_type": "code",
      "metadata": {
        "id": "4f277126",
        "colab": {
          "base_uri": "https://localhost:8080/"
        },
        "outputId": "fb807cdd-3c7a-498d-992e-7909c0e5fbfe"
      },
      "source": [
        "# verificando a existência de entradas em sábados e domingos\n",
        "df['dat_entradasistema'].apply(lambda x: True if (x.weekday() == 5 or x.weekday() == 6) else False).sum()"
      ],
      "id": "4f277126",
      "execution_count": 11,
      "outputs": [
        {
          "output_type": "execute_result",
          "data": {
            "text/plain": [
              "1183"
            ]
          },
          "metadata": {},
          "execution_count": 11
        }
      ]
    },
    {
      "cell_type": "markdown",
      "metadata": {
        "id": "5a9ddea5"
      },
      "source": [
        "**Insights**: Existem dados de entrada no sistemas referentes aos dias de fim de semana."
      ],
      "id": "5a9ddea5"
    },
    {
      "cell_type": "code",
      "metadata": {
        "colab": {
          "base_uri": "https://localhost:8080/"
        },
        "id": "btLbO3Mcis00",
        "outputId": "9b006bec-8e6e-4ec3-ba27-7a23db8ad3df"
      },
      "source": [
        "segunda = df['dat_entradasistema'].apply(lambda x: True if (x.weekday() == 0) else False).sum()\n",
        "ter = df['dat_entradasistema'].apply(lambda x: True if (x.weekday() == 1) else False).sum()\n",
        "quarta = df['dat_entradasistema'].apply(lambda x: True if (x.weekday() == 2) else False).sum()\n",
        "quinta = df['dat_entradasistema'].apply(lambda x: True if (x.weekday() == 3) else False).sum()\n",
        "sex = df['dat_entradasistema'].apply(lambda x: True if (x.weekday() == 4) else False).sum()\n",
        "sab = df['dat_entradasistema'].apply(lambda x: True if (x.weekday() == 5) else False).sum()\n",
        "domingo = df['dat_entradasistema'].apply(lambda x: True if (x.weekday() == 6) else False).sum()\n",
        "\n",
        "print(segunda, ter, quarta, quinta, sex, sab, domingo)"
      ],
      "id": "btLbO3Mcis00",
      "execution_count": 12,
      "outputs": [
        {
          "output_type": "stream",
          "name": "stdout",
          "text": [
            "292573 308693 309892 311922 282017 955 228\n"
          ]
        }
      ]
    },
    {
      "cell_type": "code",
      "metadata": {
        "colab": {
          "base_uri": "https://localhost:8080/",
          "height": 391
        },
        "id": "R08csBatlji6",
        "outputId": "97a68390-4c76-4b5f-f20e-2712af4a5537"
      },
      "source": [
        "listadias = ['segunda','terça','quarta','quinta','sexta','sabado','domingo']\n",
        "soma = [segunda,ter,quarta,quinta,sex,sab,domingo]\n",
        "plt.figure(figsize=(12,6))\n",
        "plt.bar(listadias,soma)\n"
      ],
      "id": "R08csBatlji6",
      "execution_count": 13,
      "outputs": [
        {
          "output_type": "execute_result",
          "data": {
            "text/plain": [
              "<BarContainer object of 7 artists>"
            ]
          },
          "metadata": {},
          "execution_count": 13
        },
        {
          "output_type": "display_data",
          "data": {
            "image/png": "[encoded data removed]",
            "text/plain": [
              "<Figure size 864x432 with 1 Axes>"
            ]
          },
          "metadata": {
            "needs_background": "light"
          }
        }
      ]
    },
    {
      "cell_type": "markdown",
      "metadata": {
        "id": "3QABtSmijY9F"
      },
      "source": [
        "### o dia com mais entrada é quinta com 311922 infrações\n",
        "### o dia com menos entrada é domingo com 228 infrações"
      ],
      "id": "3QABtSmijY9F"
    },
    {
      "cell_type": "markdown",
      "metadata": {
        "id": "92a7e5db"
      },
      "source": [
        "#### 2. Calcular o total de infrações por semestre e ano"
      ],
      "id": "92a7e5db"
    },
    {
      "cell_type": "code",
      "metadata": {
        "id": "00d4f051",
        "colab": {
          "base_uri": "https://localhost:8080/"
        },
        "outputId": "e0e4a791-97ba-42b5-a413-1a1e92d93f48"
      },
      "source": [
        "# extraindo as datas em uma série individual\n",
        "datas = pd.Series(1, index=df['dat_entradasistema'])\n",
        "datas"
      ],
      "id": "00d4f051",
      "execution_count": 14,
      "outputs": [
        {
          "output_type": "execute_result",
          "data": {
            "text/plain": [
              "dat_entradasistema\n",
              "2007-01-16    1\n",
              "2007-01-18    1\n",
              "2007-01-18    1\n",
              "2007-01-18    1\n",
              "2007-01-19    1\n",
              "             ..\n",
              "2013-06-28    1\n",
              "2013-06-28    1\n",
              "2013-06-28    1\n",
              "2013-06-28    1\n",
              "2013-06-28    1\n",
              "Length: 1506280, dtype: int64"
            ]
          },
          "metadata": {},
          "execution_count": 14
        }
      ]
    },
    {
      "cell_type": "code",
      "metadata": {
        "id": "vjfrjJ1zA76a"
      },
      "source": [
        "def text_above_bars(ax):\n",
        "  '''\n",
        "  Put text above bars of a bar plot\n",
        "  '''\n",
        "  rects = ax.patches  # cada rect é uma barra com atributos de posição, altura, largura, etc.\n",
        "  for rect in rects:\n",
        "      height = rect.get_height() # o atributo de altura do retângulo é o tamanho da barra\n",
        "      label = int(height)\n",
        "      ax.text(\n",
        "          rect.get_x() + rect.get_width() / 2, height + 5, label, ha=\"center\", va=\"bottom\"\n",
        "      )\n",
        "  return"
      ],
      "id": "vjfrjJ1zA76a",
      "execution_count": 15,
      "outputs": []
    },
    {
      "cell_type": "code",
      "metadata": {
        "id": "c7566787",
        "colab": {
          "base_uri": "https://localhost:8080/"
        },
        "outputId": "9fc1e6ad-df72-4008-b117-067c9d09ccdf"
      },
      "source": [
        "# print da soma anual\n",
        "anos = datas.resample('A', label='right').sum()\n",
        "anos[::1]"
      ],
      "id": "c7566787",
      "execution_count": 17,
      "outputs": [
        {
          "output_type": "execute_result",
          "data": {
            "text/plain": [
              "dat_entradasistema\n",
              "2007-12-31     84799\n",
              "2008-12-31    191376\n",
              "2009-12-31    294583\n",
              "2010-12-31    292896\n",
              "2011-12-31    283505\n",
              "2012-12-31    231061\n",
              "2013-12-31    128060\n",
              "Freq: A-DEC, dtype: int64"
            ]
          },
          "metadata": {},
          "execution_count": 17
        }
      ]
    },
    {
      "cell_type": "code",
      "metadata": {
        "id": "86eac796",
        "colab": {
          "base_uri": "https://localhost:8080/",
          "height": 420
        },
        "outputId": "ce47ab3c-c973-4dc7-faa4-7588df68c406"
      },
      "source": [
        "# redminsionando as datas para ano somando-se as ocorrências\n",
        "plt.figure(figsize=(12,6))\n",
        "plt.hlines(anos.mean(),0,300000, colors='r')\n",
        "ax = datas.resample('A', label='right').sum().plot.bar(rot=90, title='Freq. anual de entrada')\n",
        "ax.set_xticklabels(list(range(2007, 2014)))\n",
        "# colocando as quantidades acima das barras \n",
        "text_above_bars(ax)"
      ],
      "id": "86eac796",
      "execution_count": 18,
      "outputs": [
        {
          "output_type": "display_data",
          "data": {
            "image/png": "[encoded data removed]",
            "text/plain": [
              "<Figure size 864x432 with 1 Axes>"
            ]
          },
          "metadata": {
            "needs_background": "light"
          }
        }
      ]
    },
    {
      "cell_type": "code",
      "metadata": {
        "colab": {
          "base_uri": "https://localhost:8080/",
          "height": 530
        },
        "id": "FJzuTFmD0O_j",
        "outputId": "62f32e5f-5e66-4db7-ad5e-69fe652342b8"
      },
      "source": [
        "plt.figure(figsize=(16,8))\n",
        "plt.plot([ano.year for ano in anos.index], anos.values, c='b', alpha=0.3)\n",
        "plt.plot([ano.year for ano in anos.index], anos.values, 'o', c='r')\n",
        "plt.grid()\n",
        "plt.title('Freq. anual de entrada')\n",
        "plt.xlabel('Ano')\n",
        "plt.ylabel('Número de ocorrências')"
      ],
      "id": "FJzuTFmD0O_j",
      "execution_count": 19,
      "outputs": [
        {
          "output_type": "execute_result",
          "data": {
            "text/plain": [
              "Text(0, 0.5, 'Número de ocorrências')"
            ]
          },
          "metadata": {},
          "execution_count": 19
        },
        {
          "output_type": "display_data",
          "data": {
            "image/png": "[encoded data removed]",
            "text/plain": [
              "<Figure size 1152x576 with 1 Axes>"
            ]
          },
          "metadata": {
            "needs_background": "light"
          }
        }
      ]
    },
    {
      "cell_type": "code",
      "metadata": {
        "colab": {
          "base_uri": "https://localhost:8080/"
        },
        "id": "tNDmQ6bCwuzc",
        "outputId": "f82ec2af-3e07-4652-968d-cb9ba02bb466"
      },
      "source": [
        "# calculando a média anual de todo o período\n",
        "anos.mean()"
      ],
      "id": "tNDmQ6bCwuzc",
      "execution_count": 20,
      "outputs": [
        {
          "output_type": "execute_result",
          "data": {
            "text/plain": [
              "215182.85714285713"
            ]
          },
          "metadata": {},
          "execution_count": 20
        }
      ]
    },
    {
      "cell_type": "markdown",
      "metadata": {
        "id": "DQ3GYxQPxNYS"
      },
      "source": [
        "**Insight**: 2007 é o ano com menos multas.\n",
        "\n",
        "**Insight**: o total de infrações por ano segue uma distribuição aproximadamente normal: o total de infrações por ano é simétrico em torno do 'eixo virtual' em 2010. O número de infrações cresce rapidamente até 2009; em seguida, existe uma queda no número de infrações ano após ano. O pico acontece em 2009 com 294.5k ocorrências.\n",
        "\n",
        "**Insight**: o número médio anual de multas é aprox. 215k."
      ],
      "id": "DQ3GYxQPxNYS"
    },
    {
      "cell_type": "code",
      "metadata": {
        "colab": {
          "base_uri": "https://localhost:8080/"
        },
        "id": "zpy4y3Ho3ms9",
        "outputId": "a975d4b0-d726-415c-a620-793dc60094bb"
      },
      "source": [
        "datas_sem_repeticao = datas.resample('D', label='right').count()\n",
        "datas_sem_repeticao"
      ],
      "id": "zpy4y3Ho3ms9",
      "execution_count": 21,
      "outputs": [
        {
          "output_type": "execute_result",
          "data": {
            "text/plain": [
              "dat_entradasistema\n",
              "2007-01-17       1\n",
              "2007-01-18       0\n",
              "2007-01-19       3\n",
              "2007-01-20       2\n",
              "2007-01-21       0\n",
              "              ... \n",
              "2013-06-25    1194\n",
              "2013-06-26    1102\n",
              "2013-06-27    1287\n",
              "2013-06-28    1353\n",
              "2013-06-29    1002\n",
              "Freq: D, Length: 2356, dtype: int64"
            ]
          },
          "metadata": {},
          "execution_count": 21
        }
      ]
    },
    {
      "cell_type": "code",
      "metadata": {
        "colab": {
          "base_uri": "https://localhost:8080/"
        },
        "id": "bHxRZUazbZ5d",
        "outputId": "a28b3098-ef4e-436c-e8ce-9191724f96d8"
      },
      "source": [
        "# total de dias em todo o período\n",
        "datas_sem_repeticao.count()"
      ],
      "id": "bHxRZUazbZ5d",
      "execution_count": 22,
      "outputs": [
        {
          "output_type": "execute_result",
          "data": {
            "text/plain": [
              "2356"
            ]
          },
          "metadata": {},
          "execution_count": 22
        }
      ]
    },
    {
      "cell_type": "code",
      "metadata": {
        "colab": {
          "base_uri": "https://localhost:8080/"
        },
        "id": "rqLaW8FGcP7k",
        "outputId": "1b30cb31-d50e-46e8-a550-429ddaaf9eb8"
      },
      "source": [
        "# média diária de infrações (todo o período)\n",
        "media_diaria_todo_periodo = datas_sem_repeticao.mean()\n",
        "print(media_diaria_todo_periodo)\n",
        "# média diária de infrações (apenas dias com ocorrência)\n",
        "media_diaria_apenas_dias_ocorrencia = datas_sem_repeticao[datas_sem_repeticao>0].mean()\n",
        "print(media_diaria_apenas_dias_ocorrencia)"
      ],
      "id": "rqLaW8FGcP7k",
      "execution_count": 23,
      "outputs": [
        {
          "output_type": "stream",
          "name": "stdout",
          "text": [
            "639.3378607809847\n",
            "920.1466096518021\n"
          ]
        }
      ]
    },
    {
      "cell_type": "code",
      "metadata": {
        "colab": {
          "base_uri": "https://localhost:8080/"
        },
        "id": "5-TS6CxGimp_",
        "outputId": "e651bd6f-ee95-49dd-ecf2-0659a0860eee"
      },
      "source": [
        "# total de dias sem ocorrência\n",
        "datas_sem_repeticao[datas_sem_repeticao==0].count()"
      ],
      "id": "5-TS6CxGimp_",
      "execution_count": 24,
      "outputs": [
        {
          "output_type": "execute_result",
          "data": {
            "text/plain": [
              "719"
            ]
          },
          "metadata": {},
          "execution_count": 24
        }
      ]
    },
    {
      "cell_type": "code",
      "metadata": {
        "colab": {
          "base_uri": "https://localhost:8080/",
          "height": 408
        },
        "id": "CiklSZzZ4AkO",
        "outputId": "9e447250-4232-4e78-819f-9857cbc88802"
      },
      "source": [
        "# criando uma figura\n",
        "plt.figure(figsize=(12,6))\n",
        "# criando o histograma de frequencias dos dias\n",
        "ax = datas_sem_repeticao.hist(bins=50, label='Frequência dos dias')\n",
        "# criando as retas verticais com as médoas\n",
        "plt.vlines(media_diaria_todo_periodo, 0, 800, colors='r', linestyle='dashed', label=f'Média diária (todos os dias): {int(media_diaria_todo_periodo)}')\n",
        "plt.vlines(media_diaria_apenas_dias_ocorrencia, 0, 800, colors='purple', linestyle='dashed', label=f'Média diária (apenas dias c/ ocorrência): {int(media_diaria_apenas_dias_ocorrencia)}')\n",
        "# definindo o tamanho do eixo y\n",
        "plt.ylim([0, 800])\n",
        "# definindo os rótulos dos eixos\n",
        "plt.ylabel('Número de dias')\n",
        "plt.xlabel('Quantidade de ocorrências')\n",
        "# colocando as quantidades acima das barras \n",
        "text_above_bars(ax)\n",
        "# custom xticks\n",
        "plt.xticks(np.arange(min(datas_sem_repeticao.values), max(datas_sem_repeticao.values)+1, 100))\n",
        "# adicionando a legenda\n",
        "plt.legend()"
      ],
      "id": "CiklSZzZ4AkO",
      "execution_count": 25,
      "outputs": [
        {
          "output_type": "execute_result",
          "data": {
            "text/plain": [
              "<matplotlib.legend.Legend at 0x7fe8e4153e90>"
            ]
          },
          "metadata": {},
          "execution_count": 25
        },
        {
          "output_type": "display_data",
          "data": {
            "image/png": "[encoded data removed]",
            "text/plain": [
              "<Figure size 864x432 with 1 Axes>"
            ]
          },
          "metadata": {
            "needs_background": "light"
          }
        }
      ]
    },
    {
      "cell_type": "markdown",
      "metadata": {
        "id": "Fd5oMFYgbPbz"
      },
      "source": [
        "**Insight**: 719 dias (dos 2356) não possuem ocorrência de infração na base.\n",
        "\n",
        "**Insight**: a média de ocorrências por dia (todo o período) é de 639, enquanto a média diária contando apenas os dias com ocorrência é de 920. O número máximo de ocorrências em um dia é de 2500; entretanto, existem poucos dias com mais de 1750 infrações. "
      ],
      "id": "Fd5oMFYgbPbz"
    },
    {
      "cell_type": "code",
      "metadata": {
        "id": "8b1ca5e2",
        "colab": {
          "base_uri": "https://localhost:8080/",
          "height": 500
        },
        "outputId": "f13cf0d3-1238-4b98-c0c4-9db4a4e04ae7"
      },
      "source": [
        "semestre = datas_sem_repeticao.resample('6m', label='right', closed='left').sum()\n",
        "# redimensionando a base por semestres\n",
        "plt.figure(figsize=(16,6))\n",
        "plt.hlines(semestre.mean(),0,160000, colors='r')\n",
        "ax = datas_sem_repeticao.resample('6m', label='right', closed='left').sum().plot.bar(rot=90, title='Freq. semestral de entrada')\n",
        "# colocando as quantidades acima das barras \n",
        "text_above_bars(ax)"
      ],
      "id": "8b1ca5e2",
      "execution_count": 26,
      "outputs": [
        {
          "output_type": "display_data",
          "data": {
            "image/png": "[encoded data removed]",
            "text/plain": [
              "<Figure size 1152x432 with 1 Axes>"
            ]
          },
          "metadata": {
            "needs_background": "light"
          }
        }
      ]
    },
    {
      "cell_type": "code",
      "metadata": {
        "colab": {
          "base_uri": "https://localhost:8080/"
        },
        "id": "h2JJEckR8WDj",
        "outputId": "b3cc52e2-2b83-4c2b-c520-22ecd1644c56"
      },
      "source": [
        "# frequencias de cada semestre (altura das barras no gráfico anterior)\n",
        "datas_sem_repeticao.resample('6m', label='right', closed='left').sum()"
      ],
      "id": "h2JJEckR8WDj",
      "execution_count": 27,
      "outputs": [
        {
          "output_type": "execute_result",
          "data": {
            "text/plain": [
              "dat_entradasistema\n",
              "2007-06-30     37147\n",
              "2007-12-31     47446\n",
              "2008-06-30    103257\n",
              "2008-12-31     87442\n",
              "2009-06-30    148472\n",
              "2009-12-31    145683\n",
              "2010-06-30    145171\n",
              "2010-12-31    146878\n",
              "2011-06-30    156923\n",
              "2011-12-31    128050\n",
              "2012-06-30    108341\n",
              "2012-12-31    123410\n",
              "2013-06-30    128060\n",
              "Freq: 6M, dtype: int64"
            ]
          },
          "metadata": {},
          "execution_count": 27
        }
      ]
    },
    {
      "cell_type": "markdown",
      "metadata": {
        "id": "CRKcEN6LldUM"
      },
      "source": [
        "**Insight**: O semestre com mais ocorrências é o 1o semestre de 2011. O semestre com menos ocorrências é o 1o semestre de 2007."
      ],
      "id": "CRKcEN6LldUM"
    },
    {
      "cell_type": "markdown",
      "metadata": {
        "id": "786213b8"
      },
      "source": [
        "#### 3. Verificar quais condutores que mais tomaram multa por ano e no período total\n",
        "\n",
        "Primeiramente, iremos identificar os 10 condutores e automóveis com mais multas por ano e no período completo."
      ],
      "id": "786213b8"
    },
    {
      "cell_type": "code",
      "metadata": {
        "colab": {
          "base_uri": "https://localhost:8080/"
        },
        "id": "L1TejHtJ0mUs",
        "outputId": "7896bbc8-f912-487f-a735-c3a09937be04"
      },
      "source": [
        "cols = ['cod_condutorinfrator', 'num_auto']\n",
        "\n",
        "def n_maiores_ano(df, col, n):\n",
        "  # retorna os n elementos com maior número de ocorrências por ano\n",
        "    print(f' *-*-*-*-* Relatório da coluna {col} *-*-*-*-*')\n",
        "    anos = list(range(df['dat_entradasistema'].min().year, df['dat_entradasistema'].max().year+1))\n",
        "    for ano in anos:\n",
        "        boolean_mask = (df['dat_entradasistema'] > dt.datetime(ano, 1, 1)) & (df['dat_entradasistema'] < dt.datetime(ano+1, 1, 1))\n",
        "        print('*-*-*'*5, ano, '*-*-*'*5)\n",
        "        print(df[boolean_mask][col].value_counts()[:n])\n",
        "    return\n",
        "\n",
        "n_maiores_ano(df, cols[0], 10)"
      ],
      "id": "L1TejHtJ0mUs",
      "execution_count": 28,
      "outputs": [
        {
          "output_type": "stream",
          "name": "stdout",
          "text": [
            " *-*-*-*-* Relatório da coluna cod_condutorinfrator *-*-*-*-*\n",
            "*-*-**-*-**-*-**-*-**-*-* 2007 *-*-**-*-**-*-**-*-**-*-*\n",
            "84947     91\n",
            "4299      66\n",
            "85472     31\n",
            "85464     27\n",
            "80233     10\n",
            "85476      9\n",
            "84558      8\n",
            "74881      7\n",
            "138041     7\n",
            "1127       6\n",
            "Name: cod_condutorinfrator, dtype: int64\n",
            "*-*-**-*-**-*-**-*-**-*-* 2008 *-*-**-*-**-*-**-*-**-*-*\n",
            "204528    9\n",
            "213675    8\n",
            "331697    7\n",
            "308038    7\n",
            "237170    6\n",
            "177799    6\n",
            "171193    5\n",
            "338062    5\n",
            "266370    5\n",
            "209850    5\n",
            "Name: cod_condutorinfrator, dtype: int64\n",
            "*-*-**-*-**-*-**-*-**-*-* 2009 *-*-**-*-**-*-**-*-**-*-*\n",
            "483995    10\n",
            "492565    10\n",
            "356772     7\n",
            "384585     6\n",
            "397440     5\n",
            "511879     5\n",
            "430477     5\n",
            "444955     5\n",
            "356372     5\n",
            "515582     5\n",
            "Name: cod_condutorinfrator, dtype: int64\n",
            "*-*-**-*-**-*-**-*-**-*-* 2010 *-*-**-*-**-*-**-*-**-*-*\n",
            "829158    2\n",
            "809781    2\n",
            "810423    2\n",
            "800126    2\n",
            "806423    2\n",
            "819756    2\n",
            "843313    2\n",
            "820185    2\n",
            "844757    2\n",
            "805594    2\n",
            "Name: cod_condutorinfrator, dtype: int64\n",
            "*-*-**-*-**-*-**-*-**-*-* 2011 *-*-**-*-**-*-**-*-**-*-*\n",
            "1130363    2\n",
            "1147727    2\n",
            "1149289    2\n",
            "1128865    2\n",
            "1127498    2\n",
            "1157012    2\n",
            "1163861    2\n",
            "1168101    2\n",
            "1173112    2\n",
            "1130340    2\n",
            "Name: cod_condutorinfrator, dtype: int64\n",
            "*-*-**-*-**-*-**-*-**-*-* 2012 *-*-**-*-**-*-**-*-**-*-*\n",
            "1383075    2\n",
            "1377249    2\n",
            "1356136    2\n",
            "1407935    2\n",
            "1388276    2\n",
            "1413455    2\n",
            "1403766    2\n",
            "1405654    2\n",
            "1359492    2\n",
            "1378550    2\n",
            "Name: cod_condutorinfrator, dtype: int64\n",
            "*-*-**-*-**-*-**-*-**-*-* 2013 *-*-**-*-**-*-**-*-**-*-*\n",
            "1470176    2\n",
            "1472479    2\n",
            "1476842    2\n",
            "1516697    2\n",
            "1485099    2\n",
            "1486181    2\n",
            "1461937    2\n",
            "1553884    1\n",
            "1463648    1\n",
            "1539397    1\n",
            "Name: cod_condutorinfrator, dtype: int64\n"
          ]
        }
      ]
    },
    {
      "cell_type": "markdown",
      "metadata": {
        "id": "K6pi2oASnl-X"
      },
      "source": [
        "**Insights**: o ano de 2007 se destaca por ter uma grade  quanntidade de infratores com muitas ocorrências. Interessantemente, esse é o ano com menor quantidade de infrações. A partir do ano de 2010, existem no máximo duas multas por infrator. "
      ],
      "id": "K6pi2oASnl-X"
    },
    {
      "cell_type": "code",
      "metadata": {
        "colab": {
          "base_uri": "https://localhost:8080/"
        },
        "id": "c5EcmK0M0y6z",
        "outputId": "625701ce-ec0a-4357-e0e6-86235465d946"
      },
      "source": [
        "n_maiores_ano(df, cols[1], 5)"
      ],
      "id": "c5EcmK0M0y6z",
      "execution_count": 29,
      "outputs": [
        {
          "output_type": "stream",
          "name": "stdout",
          "text": [
            " *-*-*-*-* Relatório da coluna num_auto *-*-*-*-*\n",
            "*-*-**-*-**-*-**-*-**-*-* 2007 *-*-**-*-**-*-**-*-**-*-*\n",
            "E000217565    2\n",
            "E000214434    2\n",
            "E000215988    2\n",
            "E000217263    2\n",
            "E000218839    2\n",
            "Name: num_auto, dtype: int64\n",
            "*-*-**-*-**-*-**-*-**-*-* 2008 *-*-**-*-**-*-**-*-**-*-*\n",
            "B017820967    2\n",
            "R197461492    2\n",
            "R197483127    2\n",
            "R197480667    2\n",
            "R197453619    2\n",
            "Name: num_auto, dtype: int64\n",
            "*-*-**-*-**-*-**-*-**-*-* 2009 *-*-**-*-**-*-**-*-**-*-*\n",
            "R208995811    2\n",
            "R209050957    2\n",
            "R209003227    2\n",
            "R208997431    2\n",
            "R209048786    2\n",
            "Name: num_auto, dtype: int64\n",
            "*-*-**-*-**-*-**-*-**-*-* 2010 *-*-**-*-**-*-**-*-**-*-*\n",
            "R219460795    2\n",
            "R219461708    2\n",
            "R219455279    2\n",
            "R219450827    2\n",
            "R219448108    2\n",
            "Name: num_auto, dtype: int64\n",
            "*-*-**-*-**-*-**-*-**-*-* 2011 *-*-**-*-**-*-**-*-**-*-*\n",
            "T030408527    2\n",
            "E217174377    2\n",
            "T030785207    2\n",
            "T031888387    2\n",
            "R232120056    2\n",
            "Name: num_auto, dtype: int64\n",
            "*-*-**-*-**-*-**-*-**-*-* 2012 *-*-**-*-**-*-**-*-**-*-*\n",
            "T043350607    2\n",
            "T042664241    2\n",
            "T044651127    2\n",
            "B122439422    2\n",
            "T044231822    2\n",
            "Name: num_auto, dtype: int64\n",
            "*-*-**-*-**-*-**-*-**-*-* 2013 *-*-**-*-**-*-**-*-**-*-*\n",
            "R241418054    2\n",
            "B123050049    2\n",
            "R241419034    2\n",
            "B124325351    2\n",
            "R232122822    2\n",
            "Name: num_auto, dtype: int64\n"
          ]
        }
      ]
    },
    {
      "cell_type": "code",
      "metadata": {
        "colab": {
          "base_uri": "https://localhost:8080/",
          "height": 508
        },
        "id": "j55_RJ771C20",
        "outputId": "a41e5348-380d-4469-d463-8d58549c23d1"
      },
      "source": [
        "plt.figure(figsize=(16,8))\n",
        "codes = {\n",
        "    'B': 'PRF',\n",
        "    'R': 'PRF',\n",
        "    'E': 'PRF',\n",
        "    'L': 'n identificado',\n",
        "    'T': 'PRF',\n",
        "}\n",
        "df['num_auto'].apply(lambda x: x[0]).value_counts().plot.bar()"
      ],
      "id": "j55_RJ771C20",
      "execution_count": 30,
      "outputs": [
        {
          "output_type": "execute_result",
          "data": {
            "text/plain": [
              "<matplotlib.axes._subplots.AxesSubplot at 0x7fe8e3f46e90>"
            ]
          },
          "metadata": {},
          "execution_count": 30
        },
        {
          "output_type": "display_data",
          "data": {
            "image/png": "[encoded data removed]",
            "text/plain": [
              "<Figure size 1152x576 with 1 Axes>"
            ]
          },
          "metadata": {
            "needs_background": "light"
          }
        }
      ]
    },
    {
      "cell_type": "code",
      "metadata": {
        "colab": {
          "base_uri": "https://localhost:8080/"
        },
        "id": "-AMIk38gZjRp",
        "outputId": "7de3fb72-336e-4047-95b5-592cbfb9d500"
      },
      "source": [
        "df['num_auto'].apply(lambda x: x[0]).value_counts()"
      ],
      "id": "-AMIk38gZjRp",
      "execution_count": 31,
      "outputs": [
        {
          "output_type": "execute_result",
          "data": {
            "text/plain": [
              "R    989152\n",
              "E    246557\n",
              "T    198642\n",
              "B     66511\n",
              "L      5418\n",
              "Name: num_auto, dtype: int64"
            ]
          },
          "metadata": {},
          "execution_count": 31
        }
      ]
    },
    {
      "cell_type": "markdown",
      "metadata": {
        "id": "I7D3W5lloTjb"
      },
      "source": [
        "**Insights**: não existe nenhum auto que tenha mais de 2 infrações no mesmo ano.\n",
        "\n",
        "***Insights***: a grande maioria das multas vem da PRF; fonte: https://www.legisweb.com.br/legislacao/?id=200275."
      ],
      "id": "I7D3W5lloTjb"
    },
    {
      "cell_type": "code",
      "metadata": {
        "id": "89f86848",
        "colab": {
          "base_uri": "https://localhost:8080/",
          "height": 1000
        },
        "outputId": "82c8ead2-0589-44a3-e1a6-be6ec4bbc15e"
      },
      "source": [
        "cols = ['cod_condutorinfrator', 'num_auto'] \n",
        "def n_mais_total(df, col, n):\n",
        "    ax = plt.figure(figsize=(16,8))\n",
        "    ax  = df[col].value_counts()[:n].plot.bar(rot=90, title=col)\n",
        "    for p in ax.patches:\n",
        "        ax.annotate(str(p.get_height()), (p.get_x() * 1.005, p.get_height() * 1.005))\n",
        "    return\n",
        "# 10 maiores infratores\n",
        "n_mais_total(df, cols[0], 10)\n",
        "# 2 automóveis que tomaram multa, nenhum automóvel ultrapaça duas infrações\n",
        "n_mais_total(df, cols[1], 2)"
      ],
      "id": "89f86848",
      "execution_count": 32,
      "outputs": [
        {
          "output_type": "display_data",
          "data": {
            "image/png": "[encoded data removed]",
            "text/plain": [
              "<Figure size 1152x576 with 1 Axes>"
            ]
          },
          "metadata": {
            "needs_background": "light"
          }
        },
        {
          "output_type": "display_data",
          "data": {
            "image/png": "[encoded data removed]",
            "text/plain": [
              "<Figure size 1152x576 with 1 Axes>"
            ]
          },
          "metadata": {
            "needs_background": "light"
          }
        }
      ]
    },
    {
      "cell_type": "markdown",
      "metadata": {
        "id": "NDAgkCEkCyhw"
      },
      "source": [
        "#### 4. Verificar o número de semestres que ocorreram infrações para um mesmo condutor"
      ],
      "id": "NDAgkCEkCyhw"
    },
    {
      "cell_type": "code",
      "metadata": {
        "colab": {
          "base_uri": "https://localhost:8080/",
          "height": 206
        },
        "id": "GIQnCg_roS7c",
        "outputId": "7c8cb1f1-f3b4-4e81-fe38-c32739a91ec3"
      },
      "source": [
        "df.head()"
      ],
      "id": "GIQnCg_roS7c",
      "execution_count": 33,
      "outputs": [
        {
          "output_type": "execute_result",
          "data": {
            "text/html": [
              "<div>\n",
              "<style scoped>\n",
              "    .dataframe tbody tr th:only-of-type {\n",
              "        vertical-align: middle;\n",
              "    }\n",
              "\n",
              "    .dataframe tbody tr th {\n",
              "        vertical-align: top;\n",
              "    }\n",
              "\n",
              "    .dataframe thead th {\n",
              "        text-align: right;\n",
              "    }\n",
              "</style>\n",
              "<table border=\"1\" class=\"dataframe\">\n",
              "  <thead>\n",
              "    <tr style=\"text-align: right;\">\n",
              "      <th></th>\n",
              "      <th>cod_condutorinfrator</th>\n",
              "      <th>num_auto</th>\n",
              "      <th>dat_entradasistema</th>\n",
              "    </tr>\n",
              "  </thead>\n",
              "  <tbody>\n",
              "    <tr>\n",
              "      <th>709266</th>\n",
              "      <td>60926</td>\n",
              "      <td>B084168595</td>\n",
              "      <td>2007-01-16</td>\n",
              "    </tr>\n",
              "    <tr>\n",
              "      <th>709804</th>\n",
              "      <td>61883</td>\n",
              "      <td>R005595142</td>\n",
              "      <td>2007-01-18</td>\n",
              "    </tr>\n",
              "    <tr>\n",
              "      <th>709120</th>\n",
              "      <td>61885</td>\n",
              "      <td>R005560647</td>\n",
              "      <td>2007-01-18</td>\n",
              "    </tr>\n",
              "    <tr>\n",
              "      <th>709798</th>\n",
              "      <td>61760</td>\n",
              "      <td>L002285924</td>\n",
              "      <td>2007-01-18</td>\n",
              "    </tr>\n",
              "    <tr>\n",
              "      <th>710221</th>\n",
              "      <td>61988</td>\n",
              "      <td>R005602277</td>\n",
              "      <td>2007-01-19</td>\n",
              "    </tr>\n",
              "  </tbody>\n",
              "</table>\n",
              "</div>"
            ],
            "text/plain": [
              "        cod_condutorinfrator    num_auto dat_entradasistema\n",
              "709266                 60926  B084168595         2007-01-16\n",
              "709804                 61883  R005595142         2007-01-18\n",
              "709120                 61885  R005560647         2007-01-18\n",
              "709798                 61760  L002285924         2007-01-18\n",
              "710221                 61988  R005602277         2007-01-19"
            ]
          },
          "metadata": {},
          "execution_count": 33
        }
      ]
    },
    {
      "cell_type": "code",
      "metadata": {
        "id": "96SfoQLD21To"
      },
      "source": [
        "def qtd_semester(x):\n",
        "    res = pd.Series(1, index=x.values).resample('6m', label='right', closed='right').count()\n",
        "    return res.size\n",
        "#maior diferença entre uma multa e outra\n",
        "def diff_days(x):\n",
        "    res = pd.Series(1, index=x.sort_values(ascending=False).values)\n",
        "    #res = res.sort_values(ascending=False) #.resample('6m', label='right', closed='right').count()\n",
        "    first_date = res.index[0]; last_date = res.index[-1]\n",
        "    #print(first_date, last_date)\n",
        "    return (first_date - last_date).days # timedelta\n",
        "\n",
        "b = df[['cod_condutorinfrator', 'dat_entradasistema']].groupby('cod_condutorinfrator').agg(diff_days)\n",
        "b.sort_values('dat_entradasistema', ascending=False)"
      ],
      "id": "96SfoQLD21To",
      "execution_count": null,
      "outputs": []
    },
    {
      "cell_type": "code",
      "metadata": {
        "colab": {
          "base_uri": "https://localhost:8080/"
        },
        "id": "7FRSoCcH49NZ",
        "outputId": "09bd39ec-4996-4322-f94e-b958fd84f319"
      },
      "source": [
        "(df['cod_condutorinfrator'].value_counts()>1).sum()"
      ],
      "id": "7FRSoCcH49NZ",
      "execution_count": null,
      "outputs": [
        {
          "output_type": "execute_result",
          "data": {
            "text/plain": [
              "7165"
            ]
          },
          "metadata": {},
          "execution_count": 32
        }
      ]
    },
    {
      "cell_type": "code",
      "metadata": {
        "colab": {
          "base_uri": "https://localhost:8080/"
        },
        "id": "PLCHQqWM5SgQ",
        "outputId": "3584a905-79d0-4bee-a914-ddcb71198ef7"
      },
      "source": [
        "100*(df['cod_condutorinfrator'].value_counts()>1).sum()/(df['cod_condutorinfrator'].shape[0])"
      ],
      "id": "PLCHQqWM5SgQ",
      "execution_count": null,
      "outputs": [
        {
          "output_type": "execute_result",
          "data": {
            "text/plain": [
              "0.47567517327455716"
            ]
          },
          "metadata": {},
          "execution_count": 61
        }
      ]
    },
    {
      "cell_type": "markdown",
      "metadata": {
        "id": "ZlKgrm7zHC3f"
      },
      "source": [
        "**Insight**: Apenas 7165 (0.475%) infrações estão relacionadas a infratores com outras ocorrências. Aproximadamente 99.5% das ocorrências da base são de infratores com ocorrências únicas.\n",
        "\n",
        "**Insight**: Existe no máximo 145 dias de diferença entre infrações de um mesmo condutor."
      ],
      "id": "ZlKgrm7zHC3f"
    },
    {
      "cell_type": "markdown",
      "metadata": {
        "id": "3a15172f"
      },
      "source": [
        "**Insights**: Não existem infrações de um mesmo condutor em semestres diferentes."
      ],
      "id": "3a15172f"
    },
    {
      "cell_type": "code",
      "metadata": {
        "scrolled": true,
        "id": "98dae127",
        "colab": {
          "base_uri": "https://localhost:8080/"
        },
        "outputId": "72b1999d-58fe-46c2-8dee-570a25c91715"
      },
      "source": [
        "datas_maior_infrator = df[df['cod_condutorinfrator']==84947]['dat_entradasistema']\n",
        "datas_maior_infrator = pd.Series(1, index=datas_maior_infrator)\n",
        "with pd.option_context('display.max_rows', None, 'display.max_columns', None):  # more options can be specified also\n",
        "    print(datas_maior_infrator.sort_values())\n",
        "  #verficar insight\n",
        "dicmaior = {}\n",
        "for x in df[df['cod_condutorinfrator']==84947]['dat_entradasistema']:\n",
        "  if x in dicmaior:\n",
        "    dicmaior[x]+=1\n",
        "  else:\n",
        "    dicmaior[x]=1\n",
        "for key in dicmaior:\n",
        "  print(key, dicmaior[key])"
      ],
      "id": "98dae127",
      "execution_count": null,
      "outputs": [
        {
          "output_type": "stream",
          "name": "stdout",
          "text": [
            "dat_entradasistema\n",
            "2007-04-20    1\n",
            "2007-05-18    1\n",
            "2007-05-18    1\n",
            "2007-05-18    1\n",
            "2007-05-17    1\n",
            "2007-05-17    1\n",
            "2007-05-17    1\n",
            "2007-05-17    1\n",
            "2007-05-17    1\n",
            "2007-05-17    1\n",
            "2007-05-17    1\n",
            "2007-05-17    1\n",
            "2007-05-17    1\n",
            "2007-05-17    1\n",
            "2007-05-17    1\n",
            "2007-05-16    1\n",
            "2007-05-16    1\n",
            "2007-05-16    1\n",
            "2007-05-15    1\n",
            "2007-05-15    1\n",
            "2007-05-18    1\n",
            "2007-05-15    1\n",
            "2007-05-18    1\n",
            "2007-05-21    1\n",
            "2007-05-22    1\n",
            "2007-05-22    1\n",
            "2007-05-22    1\n",
            "2007-05-22    1\n",
            "2007-05-22    1\n",
            "2007-05-21    1\n",
            "2007-05-21    1\n",
            "2007-05-21    1\n",
            "2007-05-21    1\n",
            "2007-05-21    1\n",
            "2007-05-21    1\n",
            "2007-05-21    1\n",
            "2007-05-21    1\n",
            "2007-05-21    1\n",
            "2007-05-21    1\n",
            "2007-05-21    1\n",
            "2007-05-21    1\n",
            "2007-05-21    1\n",
            "2007-05-21    1\n",
            "2007-05-18    1\n",
            "2007-05-22    1\n",
            "2007-05-15    1\n",
            "2007-05-15    1\n",
            "2007-04-26    1\n",
            "2007-04-25    1\n",
            "2007-04-25    1\n",
            "2007-04-25    1\n",
            "2007-04-24    1\n",
            "2007-04-24    1\n",
            "2007-04-24    1\n",
            "2007-04-23    1\n",
            "2007-04-23    1\n",
            "2007-04-23    1\n",
            "2007-04-23    1\n",
            "2007-04-23    1\n",
            "2007-04-23    1\n",
            "2007-04-23    1\n",
            "2007-04-23    1\n",
            "2007-04-23    1\n",
            "2007-04-23    1\n",
            "2007-04-20    1\n",
            "2007-04-20    1\n",
            "2007-04-26    1\n",
            "2007-05-15    1\n",
            "2007-04-26    1\n",
            "2007-04-27    1\n",
            "2007-05-15    1\n",
            "2007-05-14    1\n",
            "2007-05-14    1\n",
            "2007-05-14    1\n",
            "2007-05-14    1\n",
            "2007-05-11    1\n",
            "2007-05-11    1\n",
            "2007-05-11    1\n",
            "2007-05-11    1\n",
            "2007-05-11    1\n",
            "2007-05-10    1\n",
            "2007-05-10    1\n",
            "2007-04-27    1\n",
            "2007-04-27    1\n",
            "2007-04-27    1\n",
            "2007-04-27    1\n",
            "2007-04-27    1\n",
            "2007-04-27    1\n",
            "2007-04-27    1\n",
            "2007-04-26    1\n",
            "2007-05-22    1\n",
            "dtype: int64\n",
            "2007-04-20 00:00:00 3\n",
            "2007-04-23 00:00:00 10\n",
            "2007-04-24 00:00:00 3\n",
            "2007-04-25 00:00:00 3\n",
            "2007-04-26 00:00:00 4\n",
            "2007-04-27 00:00:00 8\n",
            "2007-05-10 00:00:00 2\n",
            "2007-05-11 00:00:00 5\n",
            "2007-05-14 00:00:00 4\n",
            "2007-05-15 00:00:00 7\n",
            "2007-05-16 00:00:00 3\n",
            "2007-05-17 00:00:00 11\n",
            "2007-05-18 00:00:00 6\n",
            "2007-05-21 00:00:00 15\n",
            "2007-05-22 00:00:00 7\n"
          ]
        }
      ]
    },
    {
      "cell_type": "markdown",
      "metadata": {
        "id": "b310efd4"
      },
      "source": [
        "#### verificar a diferença entre 2007 e 2008 e 2007.1 e 2008.1"
      ],
      "id": "b310efd4"
    },
    {
      "cell_type": "markdown",
      "metadata": {
        "id": "47c86bfb"
      },
      "source": [
        "Por ano:"
      ],
      "id": "47c86bfb"
    },
    {
      "cell_type": "code",
      "metadata": {
        "cell_style": "split",
        "id": "b87a92d7",
        "colab": {
          "base_uri": "https://localhost:8080/"
        },
        "outputId": "9909b753-0901-4c9b-b26c-1a7fc391de1b"
      },
      "source": [
        "# código revisitado\n",
        "x = datas.resample('Y').sum()\n",
        "filtered2007 = x[0]\n",
        "filtered2008 = x[1]\n",
        "print(f\"Contagem ano 2007 \\n{filtered2007}\")\n",
        "print(20*\"-\")\n",
        "print(f\"Contagem ano 2008 \\n{filtered2008}\")\n",
        "print(20*\"-\")\n",
        "diff = filtered2008-filtered2007\n",
        "print(f\"Diferença entre 2007 e 2008 \\n{diff}\")\n",
        "print(20*\"-\")\n",
        "print('% das ocorrências de 2007 com relação as de 2008')\n",
        "print(\"%.2f \"%(filtered2007*100/filtered2008)+'%')\n",
        "print(20*\"-\")\n",
        "print('Diferença em %')\n",
        "print(\"%.2f \"%(diff*100/filtered2008)+'%')"
      ],
      "id": "b87a92d7",
      "execution_count": null,
      "outputs": [
        {
          "output_type": "stream",
          "name": "stdout",
          "text": [
            "Contagem ano 2007 \n",
            "84799\n",
            "--------------------\n",
            "Contagem ano 2008 \n",
            "191376\n",
            "--------------------\n",
            "Diferença entre 2007 e 2008 \n",
            "106577\n",
            "--------------------\n",
            "% das ocorrências de 2007 com relação as de 2008\n",
            "44.31 %\n",
            "--------------------\n",
            "Diferença em %\n",
            "55.69 %\n"
          ]
        }
      ]
    },
    {
      "cell_type": "markdown",
      "metadata": {
        "id": "b71e7e1b"
      },
      "source": [
        "Por semestre:"
      ],
      "id": "b71e7e1b"
    },
    {
      "cell_type": "code",
      "metadata": {
        "id": "2f024deb",
        "colab": {
          "base_uri": "https://localhost:8080/"
        },
        "outputId": "db78f05c-bafb-45a9-fc19-a2fe3dace4f7"
      },
      "source": [
        "semestres = datas_sem_repeticao.resample('6m', label='right', closed='left').sum()\n",
        "filtered2007 = semestres[0]\n",
        "filtered2008 = semestres[2]\n",
        "print(f\"Contagem ano 2007 1° semestre \\n{filtered2007}\")\n",
        "print(20*\"-\")\n",
        "print(f\"Contagem ano 2008 1° semestre \\n{filtered2008}\")\n",
        "print(20*\"-\")\n",
        "diff = filtered2008-filtered2007\n",
        "print(f\"Diferença entre 2007 e 2008 (apenas 1o semestre) \\n{diff}\")\n",
        "print(20*\"-\")\n",
        "print('% das ocorrências de 2007 com relação as de 2008 (apenas 1o semestre) ')\n",
        "print(\"%.2f \"%(filtered2007*100/filtered2008)+'%')\n",
        "print(20*\"-\")\n",
        "print('Diferença em % (apenas  1o semestre) ')\n",
        "print(\"%.2f \"%(diff*100/filtered2008)+'%')\n",
        "#verificar trocar resample\n",
        "datas_sem_repeticao.resample('6m', label='right', closed='left').sum()"
      ],
      "id": "2f024deb",
      "execution_count": null,
      "outputs": [
        {
          "output_type": "stream",
          "name": "stdout",
          "text": [
            "Contagem ano 2007 1° semestre \n",
            "37147\n",
            "--------------------\n",
            "Contagem ano 2008 1° semestre \n",
            "103257\n",
            "--------------------\n",
            "Diferença entre 2007 e 2008 (apenas 1o semestre) \n",
            "66110\n",
            "--------------------\n",
            "% das ocorrências de 2007 com relação as de 2008 (apenas 1o semestre) \n",
            "35.98 %\n",
            "--------------------\n",
            "Diferença em % (apenas  1o semestre) \n",
            "64.02 %\n"
          ]
        },
        {
          "output_type": "execute_result",
          "data": {
            "text/plain": [
              "dat_entradasistema\n",
              "2007-06-30     37147\n",
              "2007-12-31     47446\n",
              "2008-06-30    103257\n",
              "2008-12-31     87442\n",
              "2009-06-30    148472\n",
              "2009-12-31    145683\n",
              "2010-06-30    145171\n",
              "2010-12-31    146878\n",
              "2011-06-30    156923\n",
              "2011-12-31    128050\n",
              "2012-06-30    108341\n",
              "2012-12-31    123410\n",
              "2013-06-30    128060\n",
              "Freq: 6M, dtype: int64"
            ]
          },
          "metadata": {},
          "execution_count": 93
        }
      ]
    },
    {
      "cell_type": "markdown",
      "metadata": {
        "id": "aa9e8fc7"
      },
      "source": [
        "#### Testar se a média de fim de semana e feriados é maior do que a média de segunda à sexta"
      ],
      "id": "aa9e8fc7"
    },
    {
      "cell_type": "code",
      "metadata": {
        "id": "39f80a09"
      },
      "source": [
        "lista_feriados = []\n",
        "for ano in range(2007, 2014):\n",
        "    lista_feriados.extend(holidays.Brazil()[f'{ano}-01-01': f'{ano}-12-31'])"
      ],
      "id": "39f80a09",
      "execution_count": null,
      "outputs": []
    },
    {
      "cell_type": "code",
      "metadata": {
        "id": "4286e181",
        "colab": {
          "base_uri": "https://localhost:8080/"
        },
        "outputId": "d1f2abf0-e888-4b4f-b72c-6bff450a7ce7"
      },
      "source": [
        "period_range = pd.date_range(start=df['dat_entradasistema'].min().strftime(\"%Y-%m-%d\"), \n",
        "              end=df['dat_entradasistema'].max().strftime(\"%Y-%m-%d\"))\n",
        "period_range[:5]\n",
        "#verificar"
      ],
      "id": "4286e181",
      "execution_count": null,
      "outputs": [
        {
          "output_type": "execute_result",
          "data": {
            "text/plain": [
              "DatetimeIndex(['2007-01-16', '2007-01-17', '2007-01-18', '2007-01-19',\n",
              "               '2007-01-20'],\n",
              "              dtype='datetime64[ns]', freq='D')"
            ]
          },
          "metadata": {},
          "execution_count": 99
        }
      ]
    },
    {
      "cell_type": "code",
      "metadata": {
        "id": "9f777547"
      },
      "source": [
        "mask_weekdays = period_range.map(lambda x: 1 if x.weekday() <5 else 0).map(lambda x: bool(x))\n",
        "mask_weekdays= np.array(mask_weekdays).astype(bool)\n",
        "lista_dias_semana = list(np.array(period_range)[mask_weekdays])\n",
        "#lista_dias_semana"
      ],
      "id": "9f777547",
      "execution_count": null,
      "outputs": []
    },
    {
      "cell_type": "code",
      "metadata": {
        "id": "7df1c267"
      },
      "source": [
        "mask_weekends = period_range.map(lambda x: 1 if x.weekday() >=5 else 0).map(lambda x: bool(x))\n",
        "mask_weekends= np.array(mask_weekends).astype(bool)\n",
        "lista_fins_semana = list(np.array(period_range)[mask_weekends])\n",
        "#lista_fins_semana.shape\n",
        "#verificar"
      ],
      "id": "7df1c267",
      "execution_count": null,
      "outputs": []
    },
    {
      "cell_type": "code",
      "metadata": {
        "id": "f204df4b"
      },
      "source": [
        "### listas em um mesmo formato: datetime.datetime\n",
        "lista_feriados = [pd.Timestamp(data).to_pydatetime() for data in lista_feriados]\n",
        "lista_dias_semana = [pd.Timestamp(data).to_pydatetime() for data in lista_dias_semana]\n",
        "lista_fins_semana = [pd.Timestamp(data).to_pydatetime() for data in lista_fins_semana]\n",
        "#verificar"
      ],
      "id": "f204df4b",
      "execution_count": null,
      "outputs": []
    },
    {
      "cell_type": "code",
      "metadata": {
        "id": "d355816a"
      },
      "source": [
        "feriados_dias_semana = list(set(lista_feriados) & set(lista_dias_semana))\n",
        "lista_dias_semana_sem_feriados = list(set(lista_dias_semana) - set(feriados_dias_semana))\n",
        "lista_fins_semana_sem_feriados = list(set(lista_fins_semana) - set(feriados_dias_semana))\n",
        "#verificar"
      ],
      "id": "d355816a",
      "execution_count": null,
      "outputs": []
    },
    {
      "cell_type": "code",
      "metadata": {
        "id": "241cf6df"
      },
      "source": [
        "def numero_medio(dff, lista, nome):\n",
        "    dff_filtered = dff['dat_entradasistema'][dff['dat_entradasistema'].apply(lambda x: x.to_pydatetime() in lista)]\n",
        "    print('Numero de ocorrencias: ', dff_filtered.shape[0])\n",
        "    media_datas_com_infracao = dff_filtered.size/dff_filtered.nunique()\n",
        "    print(f'{media_datas_com_infracao}: Numero médio de infrações nos {nome} que contém infrações.')\n",
        "    media_datas_todo_periodo = dff_filtered.size/len(lista)\n",
        "    print(f'{media_datas_todo_periodo}: Numéro médio de infrações por {nome} existente em todo o período osbervado')\n",
        "    return"
      ],
      "id": "241cf6df",
      "execution_count": null,
      "outputs": []
    },
    {
      "cell_type": "code",
      "metadata": {
        "id": "8df10810",
        "colab": {
          "base_uri": "https://localhost:8080/"
        },
        "outputId": "13cb4226-feb9-4fa6-cf4f-37cb4d0a598a"
      },
      "source": [
        "numero_medio(df, lista_feriados, 'feriados')"
      ],
      "id": "8df10810",
      "execution_count": null,
      "outputs": [
        {
          "output_type": "stream",
          "name": "stdout",
          "text": [
            "Numero de ocorrencias:  1557\n",
            "129.75: Numero médio de infrações nos feriados que contém infrações.\n",
            "17.10989010989011: Numéro médio de infrações por feriados existente em todo o período osbervado\n"
          ]
        }
      ]
    },
    {
      "cell_type": "code",
      "metadata": {
        "id": "20f1a8d3",
        "colab": {
          "base_uri": "https://localhost:8080/"
        },
        "outputId": "8d1a3995-6e82-47ef-8b56-1f99c9ebd9b0"
      },
      "source": [
        "numero_medio(df, lista_dias_semana_sem_feriados, 'dias_semana')"
      ],
      "id": "20f1a8d3",
      "execution_count": null,
      "outputs": [
        {
          "output_type": "stream",
          "name": "stdout",
          "text": [
            "Numero de ocorrencias:  1503540\n",
            "940.3001876172608: Numero médio de infrações nos dias_semana que contém infrações.\n",
            "928.1111111111111: Numéro médio de infrações por dias_semana existente em todo o período osbervado\n"
          ]
        }
      ]
    },
    {
      "cell_type": "code",
      "metadata": {
        "id": "790e95ee",
        "colab": {
          "base_uri": "https://localhost:8080/"
        },
        "outputId": "bda85424-1ee9-40c2-ed31-f212ad9a76e6"
      },
      "source": [
        "numero_medio(df, lista_fins_semana, 'fins_semana')"
      ],
      "id": "790e95ee",
      "execution_count": null,
      "outputs": [
        {
          "output_type": "stream",
          "name": "stdout",
          "text": [
            "Numero de ocorrencias:  1183\n",
            "45.5: Numero médio de infrações nos fins_semana que contém infrações.\n",
            "1.7604166666666667: Numéro médio de infrações por fins_semana existente em todo o período osbervado\n"
          ]
        }
      ]
    },
    {
      "cell_type": "code",
      "metadata": {
        "id": "ffc3c351",
        "colab": {
          "base_uri": "https://localhost:8080/"
        },
        "outputId": "ed23832b-154c-4164-ae22-5d7139793516"
      },
      "source": [
        "1-df['dat_entradasistema'].nunique()/(6.5*365)"
      ],
      "id": "ffc3c351",
      "execution_count": null,
      "outputs": [
        {
          "output_type": "execute_result",
          "data": {
            "text/plain": [
              "0.3100105374077977"
            ]
          },
          "metadata": {},
          "execution_count": 107
        }
      ]
    },
    {
      "cell_type": "code",
      "metadata": {
        "colab": {
          "base_uri": "https://localhost:8080/"
        },
        "id": "XHy4klUP8Yr_",
        "outputId": "0676cd8b-b139-4105-aba9-39db413d694d"
      },
      "source": [
        "len([data.to_pydatetime() for data in datas_sem_repeticao.index if data in lista_feriados])"
      ],
      "id": "XHy4klUP8Yr_",
      "execution_count": null,
      "outputs": [
        {
          "output_type": "execute_result",
          "data": {
            "text/plain": [
              "85"
            ]
          },
          "metadata": {},
          "execution_count": 109
        }
      ]
    },
    {
      "cell_type": "code",
      "metadata": {
        "colab": {
          "base_uri": "https://localhost:8080/"
        },
        "id": "3TQzBg9-90BG",
        "outputId": "54988ea0-8d82-4345-c9f4-98883ee258bb"
      },
      "source": [
        "len(lista_feriados)"
      ],
      "id": "3TQzBg9-90BG",
      "execution_count": null,
      "outputs": [
        {
          "output_type": "execute_result",
          "data": {
            "text/plain": [
              "91"
            ]
          },
          "metadata": {},
          "execution_count": 108
        }
      ]
    },
    {
      "cell_type": "code",
      "metadata": {
        "colab": {
          "base_uri": "https://localhost:8080/"
        },
        "id": "YKqLujkU-ZC-",
        "outputId": "ea99ef74-000e-4e13-84ab-4fcad094b18d"
      },
      "source": [
        "len([data.to_pydatetime() for data in datas_sem_repeticao.index])"
      ],
      "id": "YKqLujkU-ZC-",
      "execution_count": null,
      "outputs": [
        {
          "output_type": "execute_result",
          "data": {
            "text/plain": [
              "2356"
            ]
          },
          "metadata": {},
          "execution_count": 110
        }
      ]
    },
    {
      "cell_type": "code",
      "metadata": {
        "colab": {
          "base_uri": "https://localhost:8080/"
        },
        "id": "QY2ik2cf-bOM",
        "outputId": "12095d88-c28f-46eb-a271-8eda9cd6f82d"
      },
      "source": [
        "(datas_sem_repeticao>0).sum()/len([data.to_pydatetime() for data in datas_sem_repeticao.index])"
      ],
      "id": "QY2ik2cf-bOM",
      "execution_count": null,
      "outputs": [
        {
          "output_type": "execute_result",
          "data": {
            "text/plain": [
              "0.6948217317487266"
            ]
          },
          "metadata": {},
          "execution_count": 115
        }
      ]
    },
    {
      "cell_type": "code",
      "metadata": {
        "id": "0422969d",
        "colab": {
          "base_uri": "https://localhost:8080/"
        },
        "outputId": "8e2d5d84-77a8-4ce0-bcdf-f8bac68d4146"
      },
      "source": [
        "df.shape[0]/df['dat_entradasistema'].nunique()"
      ],
      "id": "0422969d",
      "execution_count": null,
      "outputs": [
        {
          "output_type": "execute_result",
          "data": {
            "text/plain": [
              "920.1466096518021"
            ]
          },
          "metadata": {},
          "execution_count": 116
        }
      ]
    },
    {
      "cell_type": "markdown",
      "metadata": {
        "id": "4ca8f52f"
      },
      "source": [
        "**Insight**: Não exsistem ocorrências em 31% dos dias em todo o períodode 2007 à 2013.\n",
        "\n",
        "**Insight**: existem 91 feriados no período, porém apenas 85 deles com registro de ocorrência.\n",
        "\n",
        "**Insight**: De 2356 dias totais, tem-se apenas 1637 (69%) de dias com ocorrências. O total de infrações nesse período é de aprox. 1.5M, o que faz que em média, 920 ocorrências ocorram por dia.\n",
        "\n",
        "**Insight**: Existe diferença notável do numero de ocorrências médio entre dias de semana, feriados e finais de semana. Dias de semana têm uma ocorrência diária média muito maior do que essa estatística em fins de semana e feriados (considerando as datas registradas). Além disso, a média de infrações considerando todos os dias de semana dentro de todo o período observado diminui pouco, o que indica que há poucos dias de semana sem infrações. Em contrapartida, ocorrências em dias de feriado e fins de semana são escassas, o que faz com que a média considerando o período total diminui bastante com relação aos dias com infração. Interessantemente, dias de feriado têm mais infrações que dias de fins de semana.  "
      ],
      "id": "4ca8f52f"
    },
    {
      "cell_type": "markdown",
      "metadata": {
        "id": "2c970abd"
      },
      "source": [
        "#### 2. Teste de hipótese"
      ],
      "id": "2c970abd"
    },
    {
      "cell_type": "markdown",
      "metadata": {
        "id": "0763c83c"
      },
      "source": [
        "Existe diferença no número de infrações entre segundas e sextas feiras de uma mesma semana?"
      ],
      "id": "0763c83c"
    },
    {
      "cell_type": "code",
      "metadata": {
        "id": "8badce34",
        "colab": {
          "base_uri": "https://localhost:8080/"
        },
        "outputId": "44ae8db3-58bb-4632-896d-8362c0ec86e0"
      },
      "source": [
        "datas.index"
      ],
      "id": "8badce34",
      "execution_count": null,
      "outputs": [
        {
          "output_type": "execute_result",
          "data": {
            "text/plain": [
              "DatetimeIndex(['2007-01-16', '2007-01-18', '2007-01-18', '2007-01-18',\n",
              "               '2007-01-19', '2007-01-19', '2007-01-22', '2007-01-22',\n",
              "               '2007-01-22', '2007-01-22',\n",
              "               ...\n",
              "               '2013-06-28', '2013-06-28', '2013-06-28', '2013-06-28',\n",
              "               '2013-06-28', '2013-06-28', '2013-06-28', '2013-06-28',\n",
              "               '2013-06-28', '2013-06-28'],\n",
              "              dtype='datetime64[ns]', name='dat_entradasistema', length=1506280, freq=None)"
            ]
          },
          "metadata": {},
          "execution_count": 117
        }
      ]
    },
    {
      "cell_type": "code",
      "metadata": {
        "id": "d572b30b"
      },
      "source": [
        "def infracoes_dia_semana(datas, id_week):\n",
        "    dt = sum(list(datas.index.map(lambda x: x.weekday() == id_week)))\n",
        "    return dt"
      ],
      "id": "d572b30b",
      "execution_count": null,
      "outputs": []
    },
    {
      "cell_type": "code",
      "metadata": {
        "id": "9c121ee0",
        "colab": {
          "base_uri": "https://localhost:8080/"
        },
        "outputId": "02712f5e-0261-407c-f477-1e60625e085e"
      },
      "source": [
        "df_mondays = datas.resample('W').apply(lambda x: infracoes_dia_semana(x, 0))\n",
        "df_mondays"
      ],
      "id": "9c121ee0",
      "execution_count": null,
      "outputs": [
        {
          "output_type": "execute_result",
          "data": {
            "text/plain": [
              "dat_entradasistema\n",
              "2007-01-21       0\n",
              "2007-01-28      12\n",
              "2007-02-04      84\n",
              "2007-02-11     207\n",
              "2007-02-18     338\n",
              "              ... \n",
              "2013-06-02    1164\n",
              "2013-06-09     910\n",
              "2013-06-16    1377\n",
              "2013-06-23     637\n",
              "2013-06-30    1194\n",
              "Freq: W-SUN, Length: 337, dtype: int64"
            ]
          },
          "metadata": {},
          "execution_count": 119
        }
      ]
    },
    {
      "cell_type": "code",
      "metadata": {
        "id": "100c9447",
        "colab": {
          "base_uri": "https://localhost:8080/"
        },
        "outputId": "5d48e30c-2f07-4cd1-d15f-b24f18ce1145"
      },
      "source": [
        "df_fridays = datas.resample('W').apply(lambda x: infracoes_dia_semana(x, 4))\n",
        "df_fridays.sum()"
      ],
      "id": "100c9447",
      "execution_count": null,
      "outputs": [
        {
          "output_type": "execute_result",
          "data": {
            "text/plain": [
              "282017"
            ]
          },
          "metadata": {},
          "execution_count": 120
        }
      ]
    },
    {
      "cell_type": "code",
      "metadata": {
        "id": "764fd823",
        "colab": {
          "base_uri": "https://localhost:8080/",
          "height": 504
        },
        "outputId": "eecf7364-f4db-490d-e4a9-56c33a079b2f"
      },
      "source": [
        "ax = plt.figure(figsize=(16,8))\n",
        "df_mondays.hist(bins=30, alpha=0.3, label='mondays')\n",
        "df_fridays.hist(bins=30, alpha=0.3, color='r', label='fridays')\n",
        "plt.ylim(0,50)\n",
        "plt.legend()"
      ],
      "id": "764fd823",
      "execution_count": null,
      "outputs": [
        {
          "output_type": "execute_result",
          "data": {
            "text/plain": [
              "<matplotlib.legend.Legend at 0x7f729ccdbc50>"
            ]
          },
          "metadata": {},
          "execution_count": 121
        },
        {
          "output_type": "display_data",
          "data": {
            "image/png": "[encoded data removed]",
            "text/plain": [
              "<Figure size 1152x576 with 1 Axes>"
            ]
          },
          "metadata": {
            "needs_background": "light"
          }
        }
      ]
    },
    {
      "cell_type": "code",
      "metadata": {
        "id": "bedc8af6",
        "colab": {
          "base_uri": "https://localhost:8080/"
        },
        "outputId": "a29a0e86-c83d-4917-9289-c5ae1b3515fd"
      },
      "source": [
        "A = np.array(df_mondays)\n",
        "B = np.array(df_fridays)\n",
        "print(A.mean())"
      ],
      "id": "bedc8af6",
      "execution_count": null,
      "outputs": [
        {
          "output_type": "stream",
          "name": "stdout",
          "text": [
            "868.1691394658753\n"
          ]
        }
      ]
    },
    {
      "cell_type": "code",
      "metadata": {
        "id": "c943334b",
        "colab": {
          "base_uri": "https://localhost:8080/"
        },
        "outputId": "16b3845e-dde4-4062-db53-3b8de985a226"
      },
      "source": [
        "B.mean()"
      ],
      "id": "c943334b",
      "execution_count": null,
      "outputs": [
        {
          "output_type": "execute_result",
          "data": {
            "text/plain": [
              "836.8456973293769"
            ]
          },
          "metadata": {},
          "execution_count": 123
        }
      ]
    },
    {
      "cell_type": "markdown",
      "metadata": {
        "id": "06EV_57j_WJ4"
      },
      "source": [
        "**Insight**: as distribuições de infrações nas segundas e sextas são similares."
      ],
      "id": "06EV_57j_WJ4"
    },
    {
      "cell_type": "markdown",
      "metadata": {
        "id": "a8845072"
      },
      "source": [
        "#### Modelo de regressão preditivo para prever a quantidade de multas da sexta com base nas multas de seg a sexta"
      ],
      "id": "a8845072"
    },
    {
      "cell_type": "code",
      "metadata": {
        "colab": {
          "base_uri": "https://localhost:8080/",
          "height": 206
        },
        "id": "Uvea83eiiAWL",
        "outputId": "a4fb45fa-9408-4c71-df32-c35c8042c785"
      },
      "source": [
        "# removendo 1o mes:  poucos dados\n",
        "boolean_mask = (df['dat_entradasistema'] > dt.datetime(2007, 2, 1)) & (df['dat_entradasistema'] < dt.datetime(2013, 7, 1))\n",
        "dft = df[boolean_mask]\n",
        "dft.head()"
      ],
      "id": "Uvea83eiiAWL",
      "execution_count": null,
      "outputs": [
        {
          "output_type": "execute_result",
          "data": {
            "text/html": [
              "<div>\n",
              "<style scoped>\n",
              "    .dataframe tbody tr th:only-of-type {\n",
              "        vertical-align: middle;\n",
              "    }\n",
              "\n",
              "    .dataframe tbody tr th {\n",
              "        vertical-align: top;\n",
              "    }\n",
              "\n",
              "    .dataframe thead th {\n",
              "        text-align: right;\n",
              "    }\n",
              "</style>\n",
              "<table border=\"1\" class=\"dataframe\">\n",
              "  <thead>\n",
              "    <tr style=\"text-align: right;\">\n",
              "      <th></th>\n",
              "      <th>cod_condutorinfrator</th>\n",
              "      <th>num_auto</th>\n",
              "      <th>dat_entradasistema</th>\n",
              "    </tr>\n",
              "  </thead>\n",
              "  <tbody>\n",
              "    <tr>\n",
              "      <th>1497178</th>\n",
              "      <td>66583</td>\n",
              "      <td>R005672929</td>\n",
              "      <td>2007-02-02</td>\n",
              "    </tr>\n",
              "    <tr>\n",
              "      <th>1495236</th>\n",
              "      <td>64095</td>\n",
              "      <td>R005572142</td>\n",
              "      <td>2007-02-02</td>\n",
              "    </tr>\n",
              "    <tr>\n",
              "      <th>1496118</th>\n",
              "      <td>66457</td>\n",
              "      <td>R005613159</td>\n",
              "      <td>2007-02-02</td>\n",
              "    </tr>\n",
              "    <tr>\n",
              "      <th>1498823</th>\n",
              "      <td>66651</td>\n",
              "      <td>R005797101</td>\n",
              "      <td>2007-02-02</td>\n",
              "    </tr>\n",
              "    <tr>\n",
              "      <th>1496132</th>\n",
              "      <td>66516</td>\n",
              "      <td>R005616367</td>\n",
              "      <td>2007-02-02</td>\n",
              "    </tr>\n",
              "  </tbody>\n",
              "</table>\n",
              "</div>"
            ],
            "text/plain": [
              "         cod_condutorinfrator    num_auto dat_entradasistema\n",
              "1497178                 66583  R005672929         2007-02-02\n",
              "1495236                 64095  R005572142         2007-02-02\n",
              "1496118                 66457  R005613159         2007-02-02\n",
              "1498823                 66651  R005797101         2007-02-02\n",
              "1496132                 66516  R005616367         2007-02-02"
            ]
          },
          "metadata": {},
          "execution_count": 37
        }
      ]
    },
    {
      "cell_type": "code",
      "metadata": {
        "id": "2d2a3b01",
        "colab": {
          "base_uri": "https://localhost:8080/"
        },
        "outputId": "267ddcb9-2603-417d-9cd9-e4c8e0716315"
      },
      "source": [
        "# criando dados de treinamennto/teste\n",
        "# treinamento: dados semanais (divididos por dia  semana) de fev/2007 até jun/2013\n",
        "data = []\n",
        "#df = df['dat_entradasistema']\n",
        "for week_day in range(5): # monday - friday\n",
        "    res = dft['dat_entradasistema'][dft['dat_entradasistema'].apply(lambda x: True if (x.weekday() == week_day) else False)]\n",
        "    values = pd.Series(1, index=res).resample('w').count()\n",
        "    data.append({\"day\": week_day, \"weekly_occurences\": values})\n",
        "data"
      ],
      "id": "2d2a3b01",
      "execution_count": null,
      "outputs": [
        {
          "output_type": "execute_result",
          "data": {
            "text/plain": [
              "[{'day': 0, 'weekly_occurences': dat_entradasistema\n",
              "  2007-02-11     207\n",
              "  2007-02-18     338\n",
              "  2007-02-25       0\n",
              "  2007-03-04     273\n",
              "  2007-03-11     457\n",
              "                ... \n",
              "  2013-06-02    1164\n",
              "  2013-06-09     910\n",
              "  2013-06-16    1377\n",
              "  2013-06-23     637\n",
              "  2013-06-30    1194\n",
              "  Freq: W-SUN, Length: 334, dtype: int64},\n",
              " {'day': 1, 'weekly_occurences': dat_entradasistema\n",
              "  2007-02-11     178\n",
              "  2007-02-18     304\n",
              "  2007-02-25       0\n",
              "  2007-03-04     238\n",
              "  2007-03-11     448\n",
              "                ... \n",
              "  2013-06-02    1008\n",
              "  2013-06-09    1202\n",
              "  2013-06-16    1111\n",
              "  2013-06-23     590\n",
              "  2013-06-30    1102\n",
              "  Freq: W-SUN, Length: 334, dtype: int64},\n",
              " {'day': 2, 'weekly_occurences': dat_entradasistema\n",
              "  2007-02-11     331\n",
              "  2007-02-18     369\n",
              "  2007-02-25     112\n",
              "  2007-03-04     208\n",
              "  2007-03-11     422\n",
              "                ... \n",
              "  2013-06-02    1179\n",
              "  2013-06-09     789\n",
              "  2013-06-16    1625\n",
              "  2013-06-23     462\n",
              "  2013-06-30    1287\n",
              "  Freq: W-SUN, Length: 334, dtype: int64},\n",
              " {'day': 3, 'weekly_occurences': dat_entradasistema\n",
              "  2007-02-11     291\n",
              "  2007-02-18     401\n",
              "  2007-02-25     267\n",
              "  2007-03-04     207\n",
              "  2007-03-11     382\n",
              "                ... \n",
              "  2013-06-02       5\n",
              "  2013-06-09    1116\n",
              "  2013-06-16     536\n",
              "  2013-06-23    1026\n",
              "  2013-06-30    1353\n",
              "  Freq: W-SUN, Length: 334, dtype: int64},\n",
              " {'day': 4, 'weekly_occurences': dat_entradasistema\n",
              "  2007-02-04     116\n",
              "  2007-02-11     181\n",
              "  2007-02-18     355\n",
              "  2007-02-25     231\n",
              "  2007-03-04      90\n",
              "                ... \n",
              "  2013-06-02     960\n",
              "  2013-06-09    1027\n",
              "  2013-06-16    1086\n",
              "  2013-06-23     952\n",
              "  2013-06-30    1002\n",
              "  Freq: W-SUN, Length: 335, dtype: int64}]"
            ]
          },
          "metadata": {},
          "execution_count": 38
        }
      ]
    },
    {
      "cell_type": "code",
      "metadata": {
        "id": "plvkybZOWkVc",
        "colab": {
          "base_uri": "https://localhost:8080/"
        },
        "outputId": "24eea746-d091-4c09-cf18-8eadfa3f39db"
      },
      "source": [
        "#  numero de dias no conjunto de treinamento\n",
        "(data[0]['weekly_occurences'].index<dt.datetime(2012, 7, 1)).sum()"
      ],
      "id": "plvkybZOWkVc",
      "execution_count": null,
      "outputs": [
        {
          "output_type": "execute_result",
          "data": {
            "text/plain": [
              "281"
            ]
          },
          "metadata": {},
          "execution_count": 39
        }
      ]
    },
    {
      "cell_type": "code",
      "metadata": {
        "id": "jM2O06DKWnaX",
        "colab": {
          "base_uri": "https://localhost:8080/"
        },
        "outputId": "7a356181-ddee-4b00-d6b3-37e7472d00ba"
      },
      "source": [
        "# número de occorrências para cada dia da semana\n",
        "print([d['weekly_occurences'].size for d in data])  # sexta feira tem uma semana a mais (remover abaixo)"
      ],
      "id": "jM2O06DKWnaX",
      "execution_count": null,
      "outputs": [
        {
          "output_type": "stream",
          "name": "stdout",
          "text": [
            "[334, 334, 334, 334, 335]\n"
          ]
        }
      ]
    },
    {
      "cell_type": "code",
      "metadata": {
        "id": "QKw7vXMgWoYd"
      },
      "source": [
        "# 334: # total semanas\n",
        "# 281: # semanas até julho de 2012 (treinamento)\n",
        "X_train = np.ones([281, 4])\n",
        "y_train = np.ones(281)\n",
        "X_test =  np.ones([334-281, 4])\n",
        "y_test = np.ones(334-281)\n",
        "for day in data:\n",
        "    col = day['day']\n",
        "    history = day['weekly_occurences']\n",
        "    if col == 4: # sexta-feira tem um dado a mais no início do período\n",
        "        y_train = np.array(history[1:282]) # removing the first occurence \n",
        "        y_test = np.array(history[282:])\n",
        "    else:\n",
        "        X_train[:,col] = history[:281]\n",
        "        X_test[:,col] = history[281:]"
      ],
      "id": "QKw7vXMgWoYd",
      "execution_count": null,
      "outputs": []
    },
    {
      "cell_type": "code",
      "metadata": {
        "id": "IgdX-rNuWpnd",
        "colab": {
          "base_uri": "https://localhost:8080/"
        },
        "outputId": "612921c4-fbf2-479a-f62f-8bb8e4dc5f63"
      },
      "source": [
        "print(X_train.shape)\n",
        "print(X_test.shape)\n",
        "print(y_train.shape)\n",
        "print(y_test.shape)"
      ],
      "id": "IgdX-rNuWpnd",
      "execution_count": null,
      "outputs": [
        {
          "output_type": "stream",
          "name": "stdout",
          "text": [
            "(281, 4)\n",
            "(53, 4)\n",
            "(281,)\n",
            "(53,)\n"
          ]
        }
      ]
    },
    {
      "cell_type": "code",
      "metadata": {
        "id": "tjs-hvPZWqgU",
        "colab": {
          "base_uri": "https://localhost:8080/"
        },
        "outputId": "633eb327-a6f4-45cf-8f01-d3c4014f0df7"
      },
      "source": [
        "# instanciando um modelo linear  \n",
        "linreg = linear_model.LinearRegression(fit_intercept=True)\n",
        "# treinando\n",
        "linreg.fit(X_train, y_train)"
      ],
      "id": "tjs-hvPZWqgU",
      "execution_count": null,
      "outputs": [
        {
          "output_type": "execute_result",
          "data": {
            "text/plain": [
              "LinearRegression()"
            ]
          },
          "metadata": {},
          "execution_count": 43
        }
      ]
    },
    {
      "cell_type": "code",
      "metadata": {
        "id": "MMJg6U4sW29e",
        "colab": {
          "base_uri": "https://localhost:8080/"
        },
        "outputId": "9292f802-5796-495a-ea4c-a3253ba49b34"
      },
      "source": [
        "print(linreg.coef_) # coeficientes (segunda, terça, quarta, quinta)\n",
        "print(linreg.intercept_) # intercepto\n",
        "# gerando valores para cada semana no conjunto de teste\n",
        "y_pred = linreg.predict(X_test)"
      ],
      "id": "MMJg6U4sW29e",
      "execution_count": null,
      "outputs": [
        {
          "output_type": "stream",
          "name": "stdout",
          "text": [
            "[0.07690987 0.0943208  0.21421778 0.33684899]\n",
            "177.7719056390041\n"
          ]
        }
      ]
    },
    {
      "cell_type": "code",
      "metadata": {
        "id": "z7cYZNc5W4pq",
        "colab": {
          "base_uri": "https://localhost:8080/"
        },
        "outputId": "5855c64d-adb9-4335-84d5-31e9870859a7"
      },
      "source": [
        "# entrada personalizada p/ teste\n",
        "entrada = [250, 100, 400, 333] # payload\n",
        "entradarada_processada = np.array(entrada).reshape(1,-1) # dentro da API\n",
        "y_teste = linreg.predict(entradarada_processada) # prediction\n",
        "y_teste"
      ],
      "id": "z7cYZNc5W4pq",
      "execution_count": null,
      "outputs": [
        {
          "output_type": "execute_result",
          "data": {
            "text/plain": [
              "array([404.28927914])"
            ]
          },
          "metadata": {},
          "execution_count": 45
        }
      ]
    },
    {
      "cell_type": "code",
      "metadata": {
        "id": "hMZnzl-cW6nA",
        "colab": {
          "base_uri": "https://localhost:8080/"
        },
        "outputId": "4464ac56-c974-4c2f-d22f-2878b569de43"
      },
      "source": [
        "# avaliando o modelo no conjunto de teste\n",
        "RMSE = np.sqrt(((y_test-y_pred)**2).mean())\n",
        "MAE = np.abs(y_test-y_pred).mean()\n",
        "R2 = linreg.score(X_test,  y_test)\n",
        "print(RMSE, MAE,  R2)"
      ],
      "id": "hMZnzl-cW6nA",
      "execution_count": null,
      "outputs": [
        {
          "output_type": "stream",
          "name": "stdout",
          "text": [
            "342.9469814455292 252.80298974680298 0.06914192963732291\n"
          ]
        }
      ]
    },
    {
      "cell_type": "code",
      "metadata": {
        "id": "FfB7bUvHW8T0",
        "colab": {
          "base_uri": "https://localhost:8080/"
        },
        "outputId": "660d0d93-abf1-4a61-d0bc-a8b92a728164"
      },
      "source": [
        "# avaliando o modelo no conjunto de treinamento\n",
        "y_pred_train = linreg.predict(X_train)\n",
        "RMSE_train = np.sqrt(((y_pred_train-y_train)**2).mean())\n",
        "MAE_train = np.abs(y_pred_train-y_train).mean()\n",
        "print(RMSE_train, MAE_train)"
      ],
      "id": "FfB7bUvHW8T0",
      "execution_count": null,
      "outputs": [
        {
          "output_type": "stream",
          "name": "stdout",
          "text": [
            "350.57329362527366 248.21464569402633\n"
          ]
        }
      ]
    },
    {
      "cell_type": "code",
      "metadata": {
        "id": "Mjf7uvxzW-WX",
        "colab": {
          "base_uri": "https://localhost:8080/",
          "height": 503
        },
        "outputId": "2d44dfc3-6cd6-417e-a851-8bb2ba2b6f7e"
      },
      "source": [
        "# avaliando a relação entre as ocorrências de segunda feira e sexta feira no conjunto de teste\n",
        "plt.figure(figsize=(16,8))\n",
        "plt.plot(X_test[:,0], y_test, 'ro')"
      ],
      "id": "Mjf7uvxzW-WX",
      "execution_count": null,
      "outputs": [
        {
          "output_type": "execute_result",
          "data": {
            "text/plain": [
              "[<matplotlib.lines.Line2D at 0x7fb5606c3550>]"
            ]
          },
          "metadata": {},
          "execution_count": 48
        },
        {
          "output_type": "display_data",
          "data": {
            "image/png": "[encoded data removed]",
            "text/plain": [
              "<Figure size 1152x576 with 1 Axes>"
            ]
          },
          "metadata": {
            "needs_background": "light"
          }
        }
      ]
    },
    {
      "cell_type": "markdown",
      "metadata": {
        "id": "QED3-1o-W-q9"
      },
      "source": [
        "#### Insights:\n",
        " - Não há overfitting: a performance do modelo no conjunto de treinamento é similar ao esperado para dados não observados.\n",
        " -  Performance ruim (altos valores de RMSE e MAE)\n",
        " - Baixa qualidade da  linha de regressão (R^2 ~ 7%)"
      ],
      "id": "QED3-1o-W-q9"
    },
    {
      "cell_type": "code",
      "metadata": {
        "id": "Aa2bat41XANp"
      },
      "source": [
        ""
      ],
      "id": "Aa2bat41XANp",
      "execution_count": null,
      "outputs": []
    }
  ]
}